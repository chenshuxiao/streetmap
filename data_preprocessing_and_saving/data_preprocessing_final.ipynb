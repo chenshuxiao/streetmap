{
 "cells": [
  {
   "cell_type": "code",
   "execution_count": 1,
   "metadata": {},
   "outputs": [],
   "source": [
    "import warnings\n",
    "warnings.filterwarnings('ignore') # Filter out warnings\n",
    "\n",
    "import os\n",
    "import numpy as np\n",
    "import pandas as pd\n",
    "from PIL import Image\n",
    "import tensorflow as tf\n",
    "import matplotlib.pyplot as plt\n",
    "\n",
    "import cv2\n",
    "\n",
    "# for copying data\n",
    "import copy"
   ]
  },
  {
   "cell_type": "code",
   "execution_count": 2,
   "metadata": {},
   "outputs": [],
   "source": [
    "# Read accident data\n",
    "accidents = pd.read_csv('accidents_count.csv')\n",
    "\n",
    "# Split into zero and non-zero parts\n",
    "acci_zero = accidents[accidents['acci_counts']==0]\n",
    "acci_nonzero = accidents[accidents['acci_counts']!=0]"
   ]
  },
  {
   "cell_type": "code",
   "execution_count": 3,
   "metadata": {},
   "outputs": [],
   "source": [
    "# Label non-zero data by numbers from 1 to 4\n",
    "# 1 denoting relatively safe, 2 denoting medium, 3 denoting realtively dangerous, and 4 denoting dangerous\n",
    "acci_nonzero['label'] = pd.qcut(acci_nonzero['acci_counts'], 4, \\\n",
    "                        labels=[\"1\", \"2\", \"3\", \"4\"])\n",
    "\n",
    "# Label zero data by number zero\n",
    "# 0 denoting safe\n",
    "acci_zero['label'] = 0\n",
    "\n",
    "# Randomly sample from the original zero data\n",
    "safety = acci_zero.sample(n=700)"
   ]
  },
  {
   "cell_type": "code",
   "execution_count": 4,
   "metadata": {},
   "outputs": [],
   "source": [
    "# Concatenate the sampled zero data (safety) and the nonzero data\n",
    "combine = pd.concat([acci_nonzero,safety])\n",
    "\n",
    "# Sort the data by index\n",
    "combine = combine.sort_index()"
   ]
  },
  {
   "cell_type": "code",
   "execution_count": 5,
   "metadata": {},
   "outputs": [
    {
     "data": {
      "text/html": [
       "<div>\n",
       "<style scoped>\n",
       "    .dataframe tbody tr th:only-of-type {\n",
       "        vertical-align: middle;\n",
       "    }\n",
       "\n",
       "    .dataframe tbody tr th {\n",
       "        vertical-align: top;\n",
       "    }\n",
       "\n",
       "    .dataframe thead th {\n",
       "        text-align: right;\n",
       "    }\n",
       "</style>\n",
       "<table border=\"1\" class=\"dataframe\">\n",
       "  <thead>\n",
       "    <tr style=\"text-align: right;\">\n",
       "      <th></th>\n",
       "      <th>location</th>\n",
       "      <th>acci_counts</th>\n",
       "      <th>label</th>\n",
       "    </tr>\n",
       "  </thead>\n",
       "  <tbody>\n",
       "    <tr>\n",
       "      <th>9</th>\n",
       "      <td>(40.7215815, -73.9977854)</td>\n",
       "      <td>48</td>\n",
       "      <td>3</td>\n",
       "    </tr>\n",
       "    <tr>\n",
       "      <th>11</th>\n",
       "      <td>(40.7214509, -73.9973979)</td>\n",
       "      <td>172</td>\n",
       "      <td>4</td>\n",
       "    </tr>\n",
       "    <tr>\n",
       "      <th>12</th>\n",
       "      <td>(40.7208958, -73.9957503)</td>\n",
       "      <td>98</td>\n",
       "      <td>4</td>\n",
       "    </tr>\n",
       "    <tr>\n",
       "      <th>13</th>\n",
       "      <td>(40.7211736, -73.9965747)</td>\n",
       "      <td>88</td>\n",
       "      <td>4</td>\n",
       "    </tr>\n",
       "    <tr>\n",
       "      <th>14</th>\n",
       "      <td>(40.7206316, -73.9949663)</td>\n",
       "      <td>114</td>\n",
       "      <td>4</td>\n",
       "    </tr>\n",
       "  </tbody>\n",
       "</table>\n",
       "</div>"
      ],
      "text/plain": [
       "                     location  acci_counts label\n",
       "9   (40.7215815, -73.9977854)           48     3\n",
       "11  (40.7214509, -73.9973979)          172     4\n",
       "12  (40.7208958, -73.9957503)           98     4\n",
       "13  (40.7211736, -73.9965747)           88     4\n",
       "14  (40.7206316, -73.9949663)          114     4"
      ]
     },
     "execution_count": 5,
     "metadata": {},
     "output_type": "execute_result"
    }
   ],
   "source": [
    "combine.head()"
   ]
  },
  {
   "cell_type": "code",
   "execution_count": 6,
   "metadata": {},
   "outputs": [],
   "source": [
    "# Drop unnecessary column (we have labeled accident counts data, so we do not need this column any more)\n",
    "combine.drop('acci_counts',axis=1,inplace=True)"
   ]
  },
  {
   "cell_type": "code",
   "execution_count": 7,
   "metadata": {},
   "outputs": [
    {
     "data": {
      "text/html": [
       "<div>\n",
       "<style scoped>\n",
       "    .dataframe tbody tr th:only-of-type {\n",
       "        vertical-align: middle;\n",
       "    }\n",
       "\n",
       "    .dataframe tbody tr th {\n",
       "        vertical-align: top;\n",
       "    }\n",
       "\n",
       "    .dataframe thead th {\n",
       "        text-align: right;\n",
       "    }\n",
       "</style>\n",
       "<table border=\"1\" class=\"dataframe\">\n",
       "  <thead>\n",
       "    <tr style=\"text-align: right;\">\n",
       "      <th></th>\n",
       "      <th>location</th>\n",
       "      <th>label</th>\n",
       "    </tr>\n",
       "  </thead>\n",
       "  <tbody>\n",
       "    <tr>\n",
       "      <th>9</th>\n",
       "      <td>(40.7215815, -73.9977854)</td>\n",
       "      <td>3</td>\n",
       "    </tr>\n",
       "    <tr>\n",
       "      <th>11</th>\n",
       "      <td>(40.7214509, -73.9973979)</td>\n",
       "      <td>4</td>\n",
       "    </tr>\n",
       "    <tr>\n",
       "      <th>12</th>\n",
       "      <td>(40.7208958, -73.9957503)</td>\n",
       "      <td>4</td>\n",
       "    </tr>\n",
       "    <tr>\n",
       "      <th>13</th>\n",
       "      <td>(40.7211736, -73.9965747)</td>\n",
       "      <td>4</td>\n",
       "    </tr>\n",
       "    <tr>\n",
       "      <th>14</th>\n",
       "      <td>(40.7206316, -73.9949663)</td>\n",
       "      <td>4</td>\n",
       "    </tr>\n",
       "  </tbody>\n",
       "</table>\n",
       "</div>"
      ],
      "text/plain": [
       "                     location label\n",
       "9   (40.7215815, -73.9977854)     3\n",
       "11  (40.7214509, -73.9973979)     4\n",
       "12  (40.7208958, -73.9957503)     4\n",
       "13  (40.7211736, -73.9965747)     4\n",
       "14  (40.7206316, -73.9949663)     4"
      ]
     },
     "execution_count": 7,
     "metadata": {},
     "output_type": "execute_result"
    }
   ],
   "source": [
    "combine.head()"
   ]
  },
  {
   "cell_type": "code",
   "execution_count": 8,
   "metadata": {},
   "outputs": [],
   "source": [
    "# Create a new dataframe copied from combine\n",
    "new = copy.deepcopy(combine)\n",
    "\n",
    "# Transform the former location data to latitude and longitude columns\n",
    "new['latitude'] = 0\n",
    "new['longitude'] = 0\n",
    "for i in range(0,len(new)):\n",
    "    new.iloc[i,2] = float(new.iloc[i,0].lstrip('(').rstrip(')').split(',')[0])\n",
    "    new.iloc[i,3] = float(new.iloc[i,0].lstrip('(').rstrip(')').split(',')[1].lstrip())\n",
    "\n",
    "# Transfrom the former location data to data without blank\n",
    "for i in range(0,len(new)):\n",
    "    new.iloc[i,0] = str('('+str(new.iloc[i,2])+',' + str(new.iloc[i,3])+')')"
   ]
  },
  {
   "cell_type": "code",
   "execution_count": 9,
   "metadata": {},
   "outputs": [
    {
     "data": {
      "text/html": [
       "<div>\n",
       "<style scoped>\n",
       "    .dataframe tbody tr th:only-of-type {\n",
       "        vertical-align: middle;\n",
       "    }\n",
       "\n",
       "    .dataframe tbody tr th {\n",
       "        vertical-align: top;\n",
       "    }\n",
       "\n",
       "    .dataframe thead th {\n",
       "        text-align: right;\n",
       "    }\n",
       "</style>\n",
       "<table border=\"1\" class=\"dataframe\">\n",
       "  <thead>\n",
       "    <tr style=\"text-align: right;\">\n",
       "      <th></th>\n",
       "      <th>location</th>\n",
       "      <th>label</th>\n",
       "      <th>latitude</th>\n",
       "      <th>longitude</th>\n",
       "    </tr>\n",
       "  </thead>\n",
       "  <tbody>\n",
       "    <tr>\n",
       "      <th>9</th>\n",
       "      <td>(40.7215815,-73.9977854)</td>\n",
       "      <td>3</td>\n",
       "      <td>40.721581</td>\n",
       "      <td>-73.997785</td>\n",
       "    </tr>\n",
       "    <tr>\n",
       "      <th>11</th>\n",
       "      <td>(40.7214509,-73.9973979)</td>\n",
       "      <td>4</td>\n",
       "      <td>40.721451</td>\n",
       "      <td>-73.997398</td>\n",
       "    </tr>\n",
       "    <tr>\n",
       "      <th>12</th>\n",
       "      <td>(40.7208958,-73.9957503)</td>\n",
       "      <td>4</td>\n",
       "      <td>40.720896</td>\n",
       "      <td>-73.995750</td>\n",
       "    </tr>\n",
       "    <tr>\n",
       "      <th>13</th>\n",
       "      <td>(40.7211736,-73.9965747)</td>\n",
       "      <td>4</td>\n",
       "      <td>40.721174</td>\n",
       "      <td>-73.996575</td>\n",
       "    </tr>\n",
       "    <tr>\n",
       "      <th>14</th>\n",
       "      <td>(40.7206316,-73.9949663)</td>\n",
       "      <td>4</td>\n",
       "      <td>40.720632</td>\n",
       "      <td>-73.994966</td>\n",
       "    </tr>\n",
       "  </tbody>\n",
       "</table>\n",
       "</div>"
      ],
      "text/plain": [
       "                    location label   latitude  longitude\n",
       "9   (40.7215815,-73.9977854)     3  40.721581 -73.997785\n",
       "11  (40.7214509,-73.9973979)     4  40.721451 -73.997398\n",
       "12  (40.7208958,-73.9957503)     4  40.720896 -73.995750\n",
       "13  (40.7211736,-73.9965747)     4  40.721174 -73.996575\n",
       "14  (40.7206316,-73.9949663)     4  40.720632 -73.994966"
      ]
     },
     "execution_count": 9,
     "metadata": {},
     "output_type": "execute_result"
    }
   ],
   "source": [
    "new.head()"
   ]
  },
  {
   "cell_type": "code",
   "execution_count": 10,
   "metadata": {},
   "outputs": [],
   "source": [
    "# Drop the latitude and longitude columns\n",
    "new.drop('latitude', axis=1, inplace=True)\n",
    "new.drop('longitude', axis=1, inplace=True)"
   ]
  },
  {
   "cell_type": "code",
   "execution_count": 11,
   "metadata": {},
   "outputs": [],
   "source": [
    "# Read intersections data\n",
    "intersections = pd.read_csv('intersection.csv')\n",
    "intersections.latitude = round(intersections.latitude,7)\n",
    "intersections.longitude = round(intersections.longitude,7)\n",
    "intersections['location']=0"
   ]
  },
  {
   "cell_type": "code",
   "execution_count": 12,
   "metadata": {},
   "outputs": [],
   "source": [
    "# Create a location column in the same style with \"combine\"\n",
    "for i in range(0,len(intersections)):\n",
    "    intersections.iloc[i,2] = str('('+str(intersections.iloc[i,0])+',' + str(intersections.iloc[i,1])+')')"
   ]
  },
  {
   "cell_type": "code",
   "execution_count": 13,
   "metadata": {},
   "outputs": [],
   "source": [
    "# Create an index column in the intersections dataframe, for the convenience of linking back to image files\n",
    "intersections['index']=intersections.index"
   ]
  },
  {
   "cell_type": "code",
   "execution_count": 14,
   "metadata": {},
   "outputs": [
    {
     "data": {
      "text/html": [
       "<div>\n",
       "<style scoped>\n",
       "    .dataframe tbody tr th:only-of-type {\n",
       "        vertical-align: middle;\n",
       "    }\n",
       "\n",
       "    .dataframe tbody tr th {\n",
       "        vertical-align: top;\n",
       "    }\n",
       "\n",
       "    .dataframe thead th {\n",
       "        text-align: right;\n",
       "    }\n",
       "</style>\n",
       "<table border=\"1\" class=\"dataframe\">\n",
       "  <thead>\n",
       "    <tr style=\"text-align: right;\">\n",
       "      <th></th>\n",
       "      <th>latitude</th>\n",
       "      <th>longitude</th>\n",
       "      <th>location</th>\n",
       "      <th>index</th>\n",
       "    </tr>\n",
       "  </thead>\n",
       "  <tbody>\n",
       "    <tr>\n",
       "      <th>0</th>\n",
       "      <td>40.690968</td>\n",
       "      <td>-73.989220</td>\n",
       "      <td>(40.6909681,-73.9892198)</td>\n",
       "      <td>0</td>\n",
       "    </tr>\n",
       "    <tr>\n",
       "      <th>1</th>\n",
       "      <td>40.691787</td>\n",
       "      <td>-73.989009</td>\n",
       "      <td>(40.6917872,-73.9890093)</td>\n",
       "      <td>1</td>\n",
       "    </tr>\n",
       "    <tr>\n",
       "      <th>2</th>\n",
       "      <td>40.806833</td>\n",
       "      <td>-73.934215</td>\n",
       "      <td>(40.8068327,-73.9342151)</td>\n",
       "      <td>2</td>\n",
       "    </tr>\n",
       "    <tr>\n",
       "      <th>3</th>\n",
       "      <td>40.806169</td>\n",
       "      <td>-73.934859</td>\n",
       "      <td>(40.8061691,-73.9348588)</td>\n",
       "      <td>3</td>\n",
       "    </tr>\n",
       "    <tr>\n",
       "      <th>4</th>\n",
       "      <td>40.805752</td>\n",
       "      <td>-73.934709</td>\n",
       "      <td>(40.8057523,-73.9347088)</td>\n",
       "      <td>4</td>\n",
       "    </tr>\n",
       "  </tbody>\n",
       "</table>\n",
       "</div>"
      ],
      "text/plain": [
       "    latitude  longitude                  location  index\n",
       "0  40.690968 -73.989220  (40.6909681,-73.9892198)      0\n",
       "1  40.691787 -73.989009  (40.6917872,-73.9890093)      1\n",
       "2  40.806833 -73.934215  (40.8068327,-73.9342151)      2\n",
       "3  40.806169 -73.934859  (40.8061691,-73.9348588)      3\n",
       "4  40.805752 -73.934709  (40.8057523,-73.9347088)      4"
      ]
     },
     "execution_count": 14,
     "metadata": {},
     "output_type": "execute_result"
    }
   ],
   "source": [
    "intersections.head()"
   ]
  },
  {
   "cell_type": "code",
   "execution_count": 15,
   "metadata": {},
   "outputs": [],
   "source": [
    "position = copy.deepcopy(intersections)\n",
    "\n",
    "# Drop the latitude and longitude columns\n",
    "position.drop('latitude', axis=1, inplace=True)\n",
    "position.drop('longitude', axis=1, inplace=True)"
   ]
  },
  {
   "cell_type": "code",
   "execution_count": 16,
   "metadata": {},
   "outputs": [
    {
     "data": {
      "text/html": [
       "<div>\n",
       "<style scoped>\n",
       "    .dataframe tbody tr th:only-of-type {\n",
       "        vertical-align: middle;\n",
       "    }\n",
       "\n",
       "    .dataframe tbody tr th {\n",
       "        vertical-align: top;\n",
       "    }\n",
       "\n",
       "    .dataframe thead th {\n",
       "        text-align: right;\n",
       "    }\n",
       "</style>\n",
       "<table border=\"1\" class=\"dataframe\">\n",
       "  <thead>\n",
       "    <tr style=\"text-align: right;\">\n",
       "      <th></th>\n",
       "      <th>location</th>\n",
       "      <th>index</th>\n",
       "      <th>label</th>\n",
       "    </tr>\n",
       "  </thead>\n",
       "  <tbody>\n",
       "    <tr>\n",
       "      <th>0</th>\n",
       "      <td>(40.7215815,-73.9977854)</td>\n",
       "      <td>9</td>\n",
       "      <td>3</td>\n",
       "    </tr>\n",
       "    <tr>\n",
       "      <th>1</th>\n",
       "      <td>(40.7214509,-73.9973979)</td>\n",
       "      <td>11</td>\n",
       "      <td>4</td>\n",
       "    </tr>\n",
       "    <tr>\n",
       "      <th>2</th>\n",
       "      <td>(40.7208958,-73.9957503)</td>\n",
       "      <td>12</td>\n",
       "      <td>4</td>\n",
       "    </tr>\n",
       "    <tr>\n",
       "      <th>3</th>\n",
       "      <td>(40.7211736,-73.9965747)</td>\n",
       "      <td>13</td>\n",
       "      <td>4</td>\n",
       "    </tr>\n",
       "    <tr>\n",
       "      <th>4</th>\n",
       "      <td>(40.7206316,-73.9949663)</td>\n",
       "      <td>14</td>\n",
       "      <td>4</td>\n",
       "    </tr>\n",
       "  </tbody>\n",
       "</table>\n",
       "</div>"
      ],
      "text/plain": [
       "                   location  index label\n",
       "0  (40.7215815,-73.9977854)      9     3\n",
       "1  (40.7214509,-73.9973979)     11     4\n",
       "2  (40.7208958,-73.9957503)     12     4\n",
       "3  (40.7211736,-73.9965747)     13     4\n",
       "4  (40.7206316,-73.9949663)     14     4"
      ]
     },
     "execution_count": 16,
     "metadata": {},
     "output_type": "execute_result"
    }
   ],
   "source": [
    "#merge tables\n",
    "position = position.merge(new,on = 'location',how = 'inner')\n",
    "position.head()"
   ]
  },
  {
   "cell_type": "code",
   "execution_count": 17,
   "metadata": {},
   "outputs": [
    {
     "data": {
      "text/plain": [
       "(3493, 3)"
      ]
     },
     "execution_count": 17,
     "metadata": {},
     "output_type": "execute_result"
    }
   ],
   "source": [
    "# Make sure the shape is right\n",
    "position.shape"
   ]
  },
  {
   "cell_type": "code",
   "execution_count": 18,
   "metadata": {},
   "outputs": [
    {
     "data": {
      "text/html": [
       "<div>\n",
       "<style scoped>\n",
       "    .dataframe tbody tr th:only-of-type {\n",
       "        vertical-align: middle;\n",
       "    }\n",
       "\n",
       "    .dataframe tbody tr th {\n",
       "        vertical-align: top;\n",
       "    }\n",
       "\n",
       "    .dataframe thead th {\n",
       "        text-align: right;\n",
       "    }\n",
       "</style>\n",
       "<table border=\"1\" class=\"dataframe\">\n",
       "  <thead>\n",
       "    <tr style=\"text-align: right;\">\n",
       "      <th></th>\n",
       "      <th>location</th>\n",
       "      <th>index</th>\n",
       "      <th>label</th>\n",
       "      <th>image</th>\n",
       "    </tr>\n",
       "  </thead>\n",
       "  <tbody>\n",
       "    <tr>\n",
       "      <th>0</th>\n",
       "      <td>(40.7215815,-73.9977854)</td>\n",
       "      <td>9</td>\n",
       "      <td>3</td>\n",
       "      <td>0</td>\n",
       "    </tr>\n",
       "    <tr>\n",
       "      <th>1</th>\n",
       "      <td>(40.7214509,-73.9973979)</td>\n",
       "      <td>11</td>\n",
       "      <td>4</td>\n",
       "      <td>0</td>\n",
       "    </tr>\n",
       "  </tbody>\n",
       "</table>\n",
       "</div>"
      ],
      "text/plain": [
       "                   location  index label  image\n",
       "0  (40.7215815,-73.9977854)      9     3      0\n",
       "1  (40.7214509,-73.9973979)     11     4      0"
      ]
     },
     "execution_count": 18,
     "metadata": {},
     "output_type": "execute_result"
    }
   ],
   "source": [
    "# Add a new column for map data in position\n",
    "position['image'] = 0\n",
    "position.head(2)"
   ]
  },
  {
   "cell_type": "code",
   "execution_count": 19,
   "metadata": {},
   "outputs": [],
   "source": [
    "# Read images and plug image data into 'image' column\n",
    "\n",
    "coord_img_dict={}\n",
    "\n",
    "for i in range(0,len(position)):\n",
    "    \n",
    "    # Get the index of path of each map\n",
    "    idx = position.iloc[i,1]\n",
    "    img_ = str('intersection_img_size20/'+'testimage_big'+str(idx)+'.png')\n",
    "    \n",
    "    # Read map data into a dictionary\n",
    "    coord_img_dict[i]=cv2.imread(img_)\n",
    "    \n",
    "# Plug the dictionary into the position dataframe\n",
    "maps = pd.DataFrame(list(coord_img_dict.items()), columns=['sequence','image'])\n",
    "position['image'] = maps['image']"
   ]
  },
  {
   "cell_type": "code",
   "execution_count": 20,
   "metadata": {},
   "outputs": [
    {
     "data": {
      "text/html": [
       "<div>\n",
       "<style scoped>\n",
       "    .dataframe tbody tr th:only-of-type {\n",
       "        vertical-align: middle;\n",
       "    }\n",
       "\n",
       "    .dataframe tbody tr th {\n",
       "        vertical-align: top;\n",
       "    }\n",
       "\n",
       "    .dataframe thead th {\n",
       "        text-align: right;\n",
       "    }\n",
       "</style>\n",
       "<table border=\"1\" class=\"dataframe\">\n",
       "  <thead>\n",
       "    <tr style=\"text-align: right;\">\n",
       "      <th></th>\n",
       "      <th>location</th>\n",
       "      <th>index</th>\n",
       "      <th>label</th>\n",
       "      <th>image</th>\n",
       "    </tr>\n",
       "  </thead>\n",
       "  <tbody>\n",
       "    <tr>\n",
       "      <th>0</th>\n",
       "      <td>(40.7215815,-73.9977854)</td>\n",
       "      <td>9</td>\n",
       "      <td>3</td>\n",
       "      <td>[[[65, 39, 35], [65, 39, 35], [73, 47, 43], [7...</td>\n",
       "    </tr>\n",
       "    <tr>\n",
       "      <th>1</th>\n",
       "      <td>(40.7214509,-73.9973979)</td>\n",
       "      <td>11</td>\n",
       "      <td>4</td>\n",
       "      <td>[[[65, 40, 36], [69, 36, 36], [69, 36, 36], [7...</td>\n",
       "    </tr>\n",
       "    <tr>\n",
       "      <th>2</th>\n",
       "      <td>(40.7208958,-73.9957503)</td>\n",
       "      <td>12</td>\n",
       "      <td>4</td>\n",
       "      <td>[[[65, 51, 53], [66, 52, 79], [66, 52, 79], [7...</td>\n",
       "    </tr>\n",
       "    <tr>\n",
       "      <th>3</th>\n",
       "      <td>(40.7211736,-73.9965747)</td>\n",
       "      <td>13</td>\n",
       "      <td>4</td>\n",
       "      <td>[[[104, 92, 100], [104, 88, 96], [100, 88, 96]...</td>\n",
       "    </tr>\n",
       "    <tr>\n",
       "      <th>4</th>\n",
       "      <td>(40.7206316,-73.9949663)</td>\n",
       "      <td>14</td>\n",
       "      <td>4</td>\n",
       "      <td>[[[144, 136, 140], [138, 132, 137], [130, 122,...</td>\n",
       "    </tr>\n",
       "  </tbody>\n",
       "</table>\n",
       "</div>"
      ],
      "text/plain": [
       "                   location  index label  \\\n",
       "0  (40.7215815,-73.9977854)      9     3   \n",
       "1  (40.7214509,-73.9973979)     11     4   \n",
       "2  (40.7208958,-73.9957503)     12     4   \n",
       "3  (40.7211736,-73.9965747)     13     4   \n",
       "4  (40.7206316,-73.9949663)     14     4   \n",
       "\n",
       "                                               image  \n",
       "0  [[[65, 39, 35], [65, 39, 35], [73, 47, 43], [7...  \n",
       "1  [[[65, 40, 36], [69, 36, 36], [69, 36, 36], [7...  \n",
       "2  [[[65, 51, 53], [66, 52, 79], [66, 52, 79], [7...  \n",
       "3  [[[104, 92, 100], [104, 88, 96], [100, 88, 96]...  \n",
       "4  [[[144, 136, 140], [138, 132, 137], [130, 122,...  "
      ]
     },
     "execution_count": 20,
     "metadata": {},
     "output_type": "execute_result"
    }
   ],
   "source": [
    "position.head()"
   ]
  },
  {
   "cell_type": "code",
   "execution_count": 21,
   "metadata": {},
   "outputs": [
    {
     "data": {
      "text/plain": [
       "numpy.ndarray"
      ]
     },
     "execution_count": 21,
     "metadata": {},
     "output_type": "execute_result"
    }
   ],
   "source": [
    "type(position['image'][0])"
   ]
  },
  {
   "cell_type": "code",
   "execution_count": 22,
   "metadata": {},
   "outputs": [
    {
     "data": {
      "text/plain": [
       "(640, 640, 3)"
      ]
     },
     "execution_count": 22,
     "metadata": {},
     "output_type": "execute_result"
    }
   ],
   "source": [
    "position['image'][0].shape"
   ]
  },
  {
   "cell_type": "code",
   "execution_count": 23,
   "metadata": {},
   "outputs": [],
   "source": [
    "import pickle\n",
    "import os.path\n",
    "\n",
    "file_path = \"position_df.pkl\"\n",
    "# n_bytes = 2**31\n",
    "max_bytes = 2**31 - 1\n",
    "# data = bytearray(n_bytes)\n",
    "\n",
    "## write\n",
    "bytes_out = pickle.dumps(position)\n",
    "with open(file_path, 'wb') as f_out:\n",
    "    for idx in range(0, len(bytes_out), max_bytes):\n",
    "        f_out.write(bytes_out[idx:idx+max_bytes])"
   ]
  },
  {
   "cell_type": "code",
   "execution_count": 24,
   "metadata": {},
   "outputs": [],
   "source": [
    "## read\n",
    "bytes_in = bytearray(0)\n",
    "input_size = os.path.getsize(file_path)\n",
    "with open(file_path, 'rb') as f_in:\n",
    "    for _ in range(0, input_size, max_bytes):\n",
    "        bytes_in += f_in.read(max_bytes)\n",
    "data2 = pickle.loads(bytes_in)"
   ]
  }
 ],
 "metadata": {
  "kernelspec": {
   "display_name": "Python 3",
   "language": "python",
   "name": "python3"
  },
  "language_info": {
   "codemirror_mode": {
    "name": "ipython",
    "version": 3
   },
   "file_extension": ".py",
   "mimetype": "text/x-python",
   "name": "python",
   "nbconvert_exporter": "python",
   "pygments_lexer": "ipython3",
   "version": "3.6.5"
  }
 },
 "nbformat": 4,
 "nbformat_minor": 2
}
