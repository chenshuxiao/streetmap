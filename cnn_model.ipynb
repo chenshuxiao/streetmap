{
 "cells": [
  {
   "cell_type": "code",
   "execution_count": 1,
   "metadata": {},
   "outputs": [
    {
     "name": "stderr",
     "output_type": "stream",
     "text": [
      "Using TensorFlow backend.\n"
     ]
    },
    {
     "name": "stdout",
     "output_type": "stream",
     "text": [
      "The backend is: tensorflow\n",
      "tf\n",
      "1.11.0\n",
      "2.2.4\n"
     ]
    }
   ],
   "source": [
    "#import packages\n",
    "import warnings\n",
    "warnings.simplefilter(\"ignore\")\n",
    "from keras import backend as K\n",
    "K.set_image_dim_ordering('tf') # note that we need to have tensorflow dimension ordering still because of the weigths.\n",
    "print('The backend is:',K.backend())\n",
    "import tensorflow as tf\n",
    "print(K.image_dim_ordering()) # should say tf\n",
    "print(tf.__version__) # tested for 1.11.0\n",
    "import cv2\n",
    "import keras\n",
    "print(keras.__version__) # tested for 2.2.4"
   ]
  },
  {
   "cell_type": "code",
   "execution_count": 2,
   "metadata": {},
   "outputs": [],
   "source": [
    "# Import relevant packages\n",
    "from __future__ import absolute_import, division, print_function # make it compatible w Python 2\n",
    "import os\n",
    "import h5py # to handle weights\n",
    "import os, random\n",
    "import numpy as np\n",
    "import pandas as pd\n",
    "\n",
    "import matplotlib.pyplot as plt\n",
    "%matplotlib inline \n",
    "\n",
    "from PIL import Image\n",
    "\n",
    "from keras.models import Sequential\n",
    "from keras.layers import LSTM, Input, Dropout, Flatten, Convolution2D, MaxPooling2D, Dense, Activation, ZeroPadding2D\n",
    "from keras.optimizers import RMSprop, SGD\n",
    "from keras.callbacks import ModelCheckpoint, Callback, EarlyStopping\n",
    "from keras.utils import np_utils\n",
    "from keras.preprocessing.image import ImageDataGenerator\n",
    "from keras.preprocessing.image import array_to_img, img_to_array, load_img\n",
    "from keras.models import model_from_json\n",
    "from keras.preprocessing import image\n",
    "\n",
    "import sklearn\n",
    "from sklearn.model_selection import train_test_split\n",
    "from sklearn.preprocessing import scale\n",
    "\n",
    "from IPython.display import Image, display\n",
    "\n",
    "# fix random seed for reproducibility\n",
    "np.random.seed(150)"
   ]
  },
  {
   "cell_type": "code",
   "execution_count": 38,
   "metadata": {},
   "outputs": [],
   "source": [
    "# import maps, note all map images are unique\n",
    "names=[]\n",
    "imgs=[]\n",
    "coord_img_dict = {}\n",
    "for path, dirs, files in os.walk('C:/Users/panyg/Documents/UCB_course/290/project/Code/CNN/All_Image'):#file path ending with folder\n",
    "    #print('FOLDER',path)\n",
    "    #print(\"\\n\",files[1:-1])\n",
    "    for f in files[0:]:\n",
    "        coord_img_dict[f[:-4]] = cv2.imread(path+\"/\"+f)\n",
    "        \n",
    "        #print(f)\n",
    "        #imgspath.append(path+\"/\"+f)\n",
    "#print(\"samples=\",len(imgs))\n",
    "\n",
    "#imgs[-1].shape\n"
   ]
  },
  {
   "cell_type": "code",
   "execution_count": 41,
   "metadata": {},
   "outputs": [
    {
     "data": {
      "text/plain": [
       "'40.7015183_-74.0124663'"
      ]
     },
     "execution_count": 41,
     "metadata": {},
     "output_type": "execute_result"
    }
   ],
   "source": [
    "list(coord_img_dict.keys())[0]"
   ]
  },
  {
   "cell_type": "code",
   "execution_count": 42,
   "metadata": {},
   "outputs": [
    {
     "data": {
      "text/plain": [
       "5828"
      ]
     },
     "execution_count": 42,
     "metadata": {},
     "output_type": "execute_result"
    }
   ],
   "source": [
    "len(coord_img_dict)"
   ]
  },
  {
   "cell_type": "code",
   "execution_count": 8,
   "metadata": {},
   "outputs": [
    {
     "data": {
      "text/html": [
       "<div>\n",
       "<style scoped>\n",
       "    .dataframe tbody tr th:only-of-type {\n",
       "        vertical-align: middle;\n",
       "    }\n",
       "\n",
       "    .dataframe tbody tr th {\n",
       "        vertical-align: top;\n",
       "    }\n",
       "\n",
       "    .dataframe thead th {\n",
       "        text-align: right;\n",
       "    }\n",
       "</style>\n",
       "<table border=\"1\" class=\"dataframe\">\n",
       "  <thead>\n",
       "    <tr style=\"text-align: right;\">\n",
       "      <th></th>\n",
       "      <th>intersection_coordinates</th>\n",
       "      <th>accidents</th>\n",
       "    </tr>\n",
       "  </thead>\n",
       "  <tbody>\n",
       "    <tr>\n",
       "      <th>0</th>\n",
       "      <td>(40.711356, -74.00836740000001)</td>\n",
       "      <td>0</td>\n",
       "    </tr>\n",
       "    <tr>\n",
       "      <th>1</th>\n",
       "      <td>(40.767436700000005, -73.9964487)</td>\n",
       "      <td>0</td>\n",
       "    </tr>\n",
       "    <tr>\n",
       "      <th>2</th>\n",
       "      <td>(40.7577641, -73.97342309999999)</td>\n",
       "      <td>0</td>\n",
       "    </tr>\n",
       "    <tr>\n",
       "      <th>3</th>\n",
       "      <td>(40.77935120000001, -73.9452465)</td>\n",
       "      <td>0</td>\n",
       "    </tr>\n",
       "    <tr>\n",
       "      <th>4</th>\n",
       "      <td>(40.7412907, -73.9811797)</td>\n",
       "      <td>0</td>\n",
       "    </tr>\n",
       "  </tbody>\n",
       "</table>\n",
       "</div>"
      ],
      "text/plain": [
       "            intersection_coordinates  accidents\n",
       "0    (40.711356, -74.00836740000001)          0\n",
       "1  (40.767436700000005, -73.9964487)          0\n",
       "2   (40.7577641, -73.97342309999999)          0\n",
       "3   (40.77935120000001, -73.9452465)          0\n",
       "4          (40.7412907, -73.9811797)          0"
      ]
     },
     "execution_count": 8,
     "metadata": {},
     "output_type": "execute_result"
    }
   ],
   "source": [
    "#inpput counts and select \n",
    "#labels=[0,1,5,3,4,5,2,1,2]\n",
    "data = pd.read_csv(\"C:/Users/panyg/Documents/UCB_course/290/project/Code/CNN/intersection_zihang.csv\")\n",
    "data.head()"
   ]
  },
  {
   "cell_type": "code",
   "execution_count": 58,
   "metadata": {},
   "outputs": [
    {
     "name": "stdout",
     "output_type": "stream",
     "text": [
      "             intersection_coordinates  accidents      label\n",
      "1   (40.767436700000005, -73.9964487)        0.0       safe\n",
      "2    (40.7577641, -73.97342309999999)        0.0       safe\n",
      "5    (40.764278999999995, -73.973015)      286.0  dangerous\n",
      "8           (40.7287826, -73.9844396)       75.0       high\n",
      "12          (40.8042572, -73.9629292)       35.0     medium\n",
      "low          561\n",
      "medium       554\n",
      "safe         548\n",
      "dangerous    539\n",
      "high         538\n",
      "Name: label, dtype: int64\n"
     ]
    }
   ],
   "source": [
    "\n",
    "num_class=5\n",
    "#select some 0 by random\n",
    "zerodata=data[data['accidents']==0].sample(n=round(len(data[data['accidents']>0])/(num_class-1)))\n",
    "otherdata=data[data['accidents']>0]\n",
    "otherdata['label']=pd.qcut((data[data['accidents']>0]['accidents']), (num_class-1), labels=[\"low\", \"medium\",\"high\",\"dangerous\"])\n",
    "zerodata['label']=pd.qcut((data[data['accidents']==0]['accidents']), 1, labels=[\"safe\"])\n",
    "newdata=zerodata.combine_first(otherdata)\n",
    "#newdata['label'].value_counts()\n",
    "print(newdata.head())\n",
    "print(newdata['label'].value_counts())"
   ]
  },
  {
   "cell_type": "code",
   "execution_count": 59,
   "metadata": {},
   "outputs": [],
   "source": [
    "newdata['intersection_coordinates'] = newdata['intersection_coordinates'].apply(lambda x: x[1:-1])"
   ]
  },
  {
   "cell_type": "code",
   "execution_count": 60,
   "metadata": {},
   "outputs": [],
   "source": [
    "newdata['intersection_coordinates'] = newdata['intersection_coordinates'].apply(lambda x: x.replace(', ','_'))"
   ]
  },
  {
   "cell_type": "code",
   "execution_count": 61,
   "metadata": {},
   "outputs": [
    {
     "data": {
      "text/html": [
       "<div>\n",
       "<style scoped>\n",
       "    .dataframe tbody tr th:only-of-type {\n",
       "        vertical-align: middle;\n",
       "    }\n",
       "\n",
       "    .dataframe tbody tr th {\n",
       "        vertical-align: top;\n",
       "    }\n",
       "\n",
       "    .dataframe thead th {\n",
       "        text-align: right;\n",
       "    }\n",
       "</style>\n",
       "<table border=\"1\" class=\"dataframe\">\n",
       "  <thead>\n",
       "    <tr style=\"text-align: right;\">\n",
       "      <th></th>\n",
       "      <th>intersection_coordinates</th>\n",
       "      <th>accidents</th>\n",
       "      <th>label</th>\n",
       "    </tr>\n",
       "  </thead>\n",
       "  <tbody>\n",
       "    <tr>\n",
       "      <th>1</th>\n",
       "      <td>40.767436700000005_-73.9964487</td>\n",
       "      <td>0.0</td>\n",
       "      <td>safe</td>\n",
       "    </tr>\n",
       "    <tr>\n",
       "      <th>2</th>\n",
       "      <td>40.7577641_-73.97342309999999</td>\n",
       "      <td>0.0</td>\n",
       "      <td>safe</td>\n",
       "    </tr>\n",
       "    <tr>\n",
       "      <th>5</th>\n",
       "      <td>40.764278999999995_-73.973015</td>\n",
       "      <td>286.0</td>\n",
       "      <td>dangerous</td>\n",
       "    </tr>\n",
       "    <tr>\n",
       "      <th>8</th>\n",
       "      <td>40.7287826_-73.9844396</td>\n",
       "      <td>75.0</td>\n",
       "      <td>high</td>\n",
       "    </tr>\n",
       "    <tr>\n",
       "      <th>12</th>\n",
       "      <td>40.8042572_-73.9629292</td>\n",
       "      <td>35.0</td>\n",
       "      <td>medium</td>\n",
       "    </tr>\n",
       "  </tbody>\n",
       "</table>\n",
       "</div>"
      ],
      "text/plain": [
       "          intersection_coordinates  accidents      label\n",
       "1   40.767436700000005_-73.9964487        0.0       safe\n",
       "2    40.7577641_-73.97342309999999        0.0       safe\n",
       "5    40.764278999999995_-73.973015      286.0  dangerous\n",
       "8           40.7287826_-73.9844396       75.0       high\n",
       "12          40.8042572_-73.9629292       35.0     medium"
      ]
     },
     "execution_count": 61,
     "metadata": {},
     "output_type": "execute_result"
    }
   ],
   "source": [
    "newdata.head()"
   ]
  },
  {
   "cell_type": "code",
   "execution_count": 63,
   "metadata": {},
   "outputs": [
    {
     "data": {
      "text/plain": [
       "True"
      ]
     },
     "execution_count": 63,
     "metadata": {},
     "output_type": "execute_result"
    }
   ],
   "source": [
    "'40.7287826_-73.9844396' in list(coord_img_dict.keys())"
   ]
  },
  {
   "cell_type": "code",
   "execution_count": 55,
   "metadata": {},
   "outputs": [
    {
     "data": {
      "text/html": [
       "<div>\n",
       "<style scoped>\n",
       "    .dataframe tbody tr th:only-of-type {\n",
       "        vertical-align: middle;\n",
       "    }\n",
       "\n",
       "    .dataframe tbody tr th {\n",
       "        vertical-align: top;\n",
       "    }\n",
       "\n",
       "    .dataframe thead th {\n",
       "        text-align: right;\n",
       "    }\n",
       "</style>\n",
       "<table border=\"1\" class=\"dataframe\">\n",
       "  <thead>\n",
       "    <tr style=\"text-align: right;\">\n",
       "      <th></th>\n",
       "      <th>intersection_coordinates</th>\n",
       "      <th>image</th>\n",
       "    </tr>\n",
       "  </thead>\n",
       "  <tbody>\n",
       "    <tr>\n",
       "      <th>0</th>\n",
       "      <td>40.7015183_-74.0124663</td>\n",
       "      <td>[[[75, 40, 32], [75, 36, 29], [68, 35, 26], [6...</td>\n",
       "    </tr>\n",
       "    <tr>\n",
       "      <th>1</th>\n",
       "      <td>40.7015585_-74.0126746</td>\n",
       "      <td>[[[108, 71, 65], [104, 71, 54], [108, 71, 65],...</td>\n",
       "    </tr>\n",
       "    <tr>\n",
       "      <th>2</th>\n",
       "      <td>40.7015732_-74.0125769</td>\n",
       "      <td>[[[67, 39, 28], [61, 33, 26], [61, 33, 26], [6...</td>\n",
       "    </tr>\n",
       "    <tr>\n",
       "      <th>3</th>\n",
       "      <td>40.7016459_-74.0120843</td>\n",
       "      <td>[[[80, 36, 28], [80, 36, 28], [72, 36, 32], [7...</td>\n",
       "    </tr>\n",
       "    <tr>\n",
       "      <th>4</th>\n",
       "      <td>40.7020107_-74.0095878</td>\n",
       "      <td>[[[52, 90, 90], [52, 90, 90], [52, 90, 90], [6...</td>\n",
       "    </tr>\n",
       "  </tbody>\n",
       "</table>\n",
       "</div>"
      ],
      "text/plain": [
       "  intersection_coordinates                                              image\n",
       "0   40.7015183_-74.0124663  [[[75, 40, 32], [75, 36, 29], [68, 35, 26], [6...\n",
       "1   40.7015585_-74.0126746  [[[108, 71, 65], [104, 71, 54], [108, 71, 65],...\n",
       "2   40.7015732_-74.0125769  [[[67, 39, 28], [61, 33, 26], [61, 33, 26], [6...\n",
       "3   40.7016459_-74.0120843  [[[80, 36, 28], [80, 36, 28], [72, 36, 32], [7...\n",
       "4   40.7020107_-74.0095878  [[[52, 90, 90], [52, 90, 90], [52, 90, 90], [6..."
      ]
     },
     "execution_count": 55,
     "metadata": {},
     "output_type": "execute_result"
    }
   ],
   "source": [
    "maps=pd.DataFrame(list(coord_img_dict.items()), columns=['intersection_coordinates', 'image'])\n",
    "maps.head()"
   ]
  },
  {
   "cell_type": "code",
   "execution_count": 65,
   "metadata": {},
   "outputs": [],
   "source": [
    "img_coord_pd=maps.merge(newdata,on = 'intersection_coordinates',how = 'inner')"
   ]
  },
  {
   "cell_type": "code",
   "execution_count": 67,
   "metadata": {},
   "outputs": [],
   "source": [
    "img_coord_pd.to_csv('img_coord_pd.csv', encoding='utf-8', index=False)"
   ]
  },
  {
   "cell_type": "code",
   "execution_count": 156,
   "metadata": {},
   "outputs": [
    {
     "name": "stdout",
     "output_type": "stream",
     "text": [
      "[1, 5]\n"
     ]
    }
   ],
   "source": [
    "#### split the data\n",
    "#def cross_validate(Xs, ys):\n",
    "#    X_train, X_test, y_train, y_test = train_test_split(Xs, ys, test_size=0.2, random_state=0)\n",
    "#    return X_train, X_test, y_train, y_test\n",
    "\n",
    "X_train, X_test, y_train, y_test = train_test_split(imgs, labels, test_size=0.2, random_state=0)\n",
    "\n",
    "# confirm we got our data\n",
    "print(y_test[0:10])\n"
   ]
  },
  {
   "cell_type": "code",
   "execution_count": 38,
   "metadata": {},
   "outputs": [],
   "source": [
    "# normalize inputs from 0-255 and 0.0-1.0\n",
    "X_train = np.array(X_train).astype('float32')\n",
    "X_test = np.array(X_test).astype('float32')\n",
    "X_train = X_train / 255.0\n",
    "X_test = X_test / 255.0\n",
    "\n",
    "# one hot encode outputs\n",
    "y_train = np.array(y_train)\n",
    "y_test = np.array(y_test)\n",
    "y_train = np_utils.to_categorical(y_train)\n",
    "y_test = np_utils.to_categorical(y_test)\n",
    "#num_classes = y_test.shape[1]"
   ]
  },
  {
   "cell_type": "code",
   "execution_count": null,
   "metadata": {},
   "outputs": [],
   "source": [
    "##潘潘你可以直接改这个或者直接run这个model\n",
    "input_size=(640,640,3)\n",
    "num_classes=6\n",
    "\n",
    "def createCNNModel(num_classes):\n",
    "#    \"\"\" Adapted from: # http://machinelearningmastery.com/object-recognition-convolutional-neural-networks-keras-deep-learning-library/\n",
    "# \"\"\"\n",
    "    # Create the model\n",
    "    model = Sequential()\n",
    "    model.add(Convolution2D(32, 3, 3, input_shape=input_size, border_mode='same', activation='relu'))\n",
    "    model.add(Dropout(0.2))\n",
    "    model.add(Convolution2D(32, 3, 3, activation='relu', border_mode='same'))\n",
    "    model.add(MaxPooling2D(pool_size=(2, 2)))\n",
    "    model.add(Flatten())\n",
    "    model.add(Dense(512, activation='relu'))\n",
    "    model.add(Dropout(0.5))\n",
    "    model.add(Dense(num_classes, activation='softmax'))\n",
    "    # Compile model\n",
    "    epochs = 3  # >>> should be 25+\n",
    "    lrate = 0.01\n",
    "    decay = lrate/epochs\n",
    "    sgd = SGD(lr=lrate, momentum=0.9, decay=decay, nesterov=False)\n",
    "    model.compile(loss='categorical_crossentropy', optimizer=sgd, metrics=['accuracy'])\n",
    "    print(model.summary())\n",
    "    return model, epochs\n",
    "\n",
    "# create our CNN model\n",
    "model, epochs = createCNNModel(num_classes)\n",
    "print(\"CNN Model created.\")\n"
   ]
  },
  {
   "cell_type": "code",
   "execution_count": 39,
   "metadata": {},
   "outputs": [
    {
     "name": "stdout",
     "output_type": "stream",
     "text": [
      "_________________________________________________________________\n",
      "Layer (type)                 Output Shape              Param #   \n",
      "=================================================================\n",
      "conv2d_1 (Conv2D)            (None, 640, 640, 32)      896       \n",
      "_________________________________________________________________\n",
      "dropout_3 (Dropout)          (None, 640, 640, 32)      0         \n",
      "_________________________________________________________________\n",
      "max_pooling2d_1 (MaxPooling2 (None, 320, 320, 32)      0         \n",
      "_________________________________________________________________\n",
      "flatten_1 (Flatten)          (None, 3276800)           0         \n",
      "_________________________________________________________________\n",
      "dense_3 (Dense)              (None, 6)                 19660806  \n",
      "=================================================================\n",
      "Total params: 19,661,702\n",
      "Trainable params: 19,661,702\n",
      "Non-trainable params: 0\n",
      "_________________________________________________________________\n",
      "None\n",
      "CNN Model created.\n"
     ]
    }
   ],
   "source": [
    "#这个模块我今天run，你不用run他\n",
    "input_size=(640,640,3)\n",
    "num_classes=6\n",
    "def createCNNModel(num_classes):\n",
    "#    \"\"\" Adapted from: # http://machinelearningmastery.com/object-recognition-convolutional-neural-networks-keras-deep-learning-library/\n",
    "# \"\"\"\n",
    "    # Create the model\n",
    "    model = Sequential()\n",
    "    model.add(Convolution2D(32, 3, 3, input_shape=input_size, border_mode='same', activation='relu'))\n",
    "    model.add(Dropout(0.2))\n",
    "    model.add(MaxPooling2D(pool_size=(2, 2)))\n",
    "    model.add(Flatten())\n",
    "    model.add(Dense(num_classes, activation='softmax'))\n",
    "\n",
    "    # Compile model\n",
    "    epochs = 3  # >>> should be 25+\n",
    "    lrate = 0.01\n",
    "    decay = lrate/epochs\n",
    "    sgd = SGD(lr=lrate, momentum=0.9, decay=decay, nesterov=False)\n",
    "    model.compile(loss='categorical_crossentropy', optimizer=sgd, metrics=['accuracy'])\n",
    "    print(model.summary())\n",
    "    return model, epochs\n",
    "\n",
    "# create our CNN model\n",
    "model, epochs = createCNNModel(num_classes)\n",
    "print(\"CNN Model created.\")\n"
   ]
  },
  {
   "cell_type": "code",
   "execution_count": 40,
   "metadata": {},
   "outputs": [
    {
     "data": {
      "text/plain": [
       "(7, 640, 640, 3)"
      ]
     },
     "execution_count": 40,
     "metadata": {},
     "output_type": "execute_result"
    }
   ],
   "source": [
    "X_train.shape"
   ]
  },
  {
   "cell_type": "code",
   "execution_count": 41,
   "metadata": {},
   "outputs": [
    {
     "name": "stdout",
     "output_type": "stream",
     "text": [
      "Epoch 1/3\n",
      "7/7 [==============================] - 11s 2s/step - loss: 1.9487 - acc: 0.1429\n",
      "Epoch 2/3\n",
      "7/7 [==============================] - 7s 1s/step - loss: 11.5129 - acc: 0.2857\n",
      "Epoch 3/3\n",
      "7/7 [==============================] - 7s 1s/step - loss: 11.5129 - acc: 0.2857\n",
      "Accuracy: 0.00%\n",
      "done\n"
     ]
    }
   ],
   "source": [
    "#batch size，learning rate之类的这些 你跑之前都可以改\n",
    "batch_size=60\n",
    "seed = 7\n",
    "np.random.seed(seed)\n",
    "model.fit(X_train, y_train, batch_size = batch_size, nb_epoch = epochs)\n",
    "#model.fit(X_train, y_train, validation_data=(X_test, y_test), nb_epoch=epochs, batch_size=60)\n",
    "# Final evaluation of the model\n",
    "scores = model.evaluate(X_test, y_test, verbose=0)\n",
    "print(\"Accuracy: %.2f%%\" % (scores[1]*100))\n",
    "\n",
    "print(\"done\")"
   ]
  },
  {
   "cell_type": "code",
   "execution_count": 54,
   "metadata": {},
   "outputs": [
    {
     "data": {
      "text/plain": [
       "array([[0., 0., 1., 0., 0., 0.],\n",
       "       [0., 0., 1., 0., 0., 0.]], dtype=float32)"
      ]
     },
     "execution_count": 54,
     "metadata": {},
     "output_type": "execute_result"
    }
   ],
   "source": [
    "y_pred=model.predict(X_test)\n",
    "print(\"y_pred is \",y_pred)"
   ]
  },
  {
   "cell_type": "code",
   "execution_count": 47,
   "metadata": {},
   "outputs": [
    {
     "data": {
      "text/plain": [
       "array([[0., 1., 0., 0., 0., 0.],\n",
       "       [0., 0., 0., 0., 0., 1.]], dtype=float32)"
      ]
     },
     "execution_count": 47,
     "metadata": {},
     "output_type": "execute_result"
    }
   ],
   "source": [
    "y_test"
   ]
  },
  {
   "cell_type": "code",
   "execution_count": 61,
   "metadata": {},
   "outputs": [],
   "source": [
    "##store the weights\n",
    "for layer in model.layers:\n",
    "    weights = layer.get_weights() "
   ]
  },
  {
   "cell_type": "code",
   "execution_count": 62,
   "metadata": {},
   "outputs": [
    {
     "data": {
      "text/plain": [
       "[array([[ 1.6228707e-03, -3.4538349e-03,  3.2287699e-03,  1.5444639e-03,\n",
       "          3.3674845e-03, -5.2891597e-03],\n",
       "        [-7.8277901e-04, -6.5064844e-04,  6.8643334e-04, -7.4463169e-04,\n",
       "          6.5404869e-04, -1.8925820e-03],\n",
       "        [-4.0262926e-04,  1.1396382e-03, -4.4183107e-06,  8.5334317e-04,\n",
       "         -7.6675159e-04,  9.5519121e-04],\n",
       "        ...,\n",
       "        [-1.0649031e-03,  7.1342685e-04,  7.4985437e-04,  1.2977265e-03,\n",
       "          6.8004243e-04, -7.2314538e-04],\n",
       "        [ 1.0233629e-03, -4.4777343e-04,  5.0101511e-04,  3.5858125e-04,\n",
       "         -9.0478320e-04, -1.4484559e-04],\n",
       "        [ 8.5067679e-04, -6.8056706e-04,  1.0558066e-03,  1.2486810e-03,\n",
       "          2.8237549e-04,  1.2023586e-03]], dtype=float32),\n",
       " array([ 0.00166985, -0.00310872,  0.00293007,  0.00101551,  0.00228385,\n",
       "        -0.00479055], dtype=float32)]"
      ]
     },
     "execution_count": 62,
     "metadata": {},
     "output_type": "execute_result"
    }
   ],
   "source": [
    "weights"
   ]
  },
  {
   "cell_type": "code",
   "execution_count": 63,
   "metadata": {},
   "outputs": [
    {
     "data": {
      "text/plain": [
       "2"
      ]
     },
     "execution_count": 63,
     "metadata": {},
     "output_type": "execute_result"
    }
   ],
   "source": [
    "len(weights)"
   ]
  },
  {
   "cell_type": "code",
   "execution_count": 64,
   "metadata": {},
   "outputs": [],
   "source": [
    "##store the model\n",
    "model.save('/Users/xudanluo/Desktop/未命名文件夹/my_model.h5')#change path "
   ]
  },
  {
   "cell_type": "code",
   "execution_count": null,
   "metadata": {},
   "outputs": [],
   "source": [
    "###read the stored the model\n",
    "import h5py\n",
    "\n",
    "def print_keras_wegiths(weight_file_path):\n",
    "    f = h5py.File(weight_file_path)  # 读取weights h5文件返回File类\n",
    "    try:\n",
    "        if len(f.attrs.items()):\n",
    "            print(\"{} contains: \".format(weight_file_path))\n",
    "            print(\"Root attributes:\")\n",
    "        for key, value in f.attrs.items():\n",
    "            print(\"  {}: {}\".format(key, value))  # 输出储存在File类中的attrs信息，一般是各层的名称\n",
    "\n",
    "        for layer, g in f.items():  # 读取各层的名称以及包含层信息的Group类\n",
    "            print(\"  {}\".format(layer))\n",
    "            print(\"    Attributes:\")\n",
    "            for key, value in g.attrs.items(): # 输出储存在Group类中的attrs信息，一般是各层的weights和bias及他们的名称\n",
    "                print(\"      {}: {}\".format(key, value))  \n",
    "\n",
    "            print(\"    Dataset:\")\n",
    "            for name, d in g.items(): # 读取各层储存具体信息的Dataset类\n",
    "                print(\"      {}: {}\".format(name, d.value.shape)) # 输出储存在Dataset中的层名称和权重，也可以打印dataset的attrs，但是keras中是空的\n",
    "                print(\"      {}: {}\".format(name. d.value))\n",
    "    finally:\n",
    "        f.close()"
   ]
  }
 ],
 "metadata": {
  "kernelspec": {
   "display_name": "Python 3",
   "language": "python",
   "name": "python3"
  },
  "language_info": {
   "codemirror_mode": {
    "name": "ipython",
    "version": 3
   },
   "file_extension": ".py",
   "mimetype": "text/x-python",
   "name": "python",
   "nbconvert_exporter": "python",
   "pygments_lexer": "ipython3",
   "version": "3.6.4"
  }
 },
 "nbformat": 4,
 "nbformat_minor": 2
}
