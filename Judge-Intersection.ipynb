{
 "cells": [
  {
   "cell_type": "code",
   "execution_count": 30,
   "metadata": {},
   "outputs": [],
   "source": [
    "def extract_intersections(osm, verbose=True):\n",
    "    # This function takes an osm file as an input. It then goes through each xml \n",
    "    # element and searches for nodes that are shared by two or more ways.\n",
    "    # Parameter:\n",
    "    # - osm: An xml file that contains OpenStreetMap's map information\n",
    "    # - verbose: If true, print some outputs to terminal.\n",
    "    # \n",
    "    # Ex) extract_intersections('WashingtonDC.osm')\n",
    "    #\n",
    "    tree = ET.parse(osm)\n",
    "    root = tree.getroot()\n",
    "    counter = {}\n",
    "    for child in root:\n",
    "        if child.tag == 'way':\n",
    "            for item in child:\n",
    "                if item.tag == 'nd':\n",
    "                    nd_ref = item.attrib['ref']\n",
    "                    if not nd_ref in counter:\n",
    "                        counter[nd_ref] = 0\n",
    "                    counter[nd_ref] += 1\n",
    "\n",
    "    # Find nodes that are shared with more than one way, which\n",
    "    # might correspond to intersections\n",
    "    intersections = filter(lambda x: counter[x] > 1,  counter)\n",
    "\n",
    "    # Extract intersection coordinates\n",
    "    # You can plot the result using this url.\n",
    "    # http://www.darrinward.com/lat-long/\n",
    "    intersection_coordinates = []\n",
    "    for child in root:\n",
    "        if child.tag == 'node' and child.attrib['id'] in intersections:\n",
    "            coordinate = child.attrib['lat'] + ',' + child.attrib['lon']\n",
    "            if verbose:\n",
    "                print(coordinate)\n",
    "            intersection_coordinates.append(coordinate)\n",
    "\n",
    "    return intersection_coordinates"
   ]
  },
  {
   "cell_type": "code",
   "execution_count": 31,
   "metadata": {},
   "outputs": [],
   "source": [
    "from xml.etree import cElementTree as ET"
   ]
  },
  {
   "cell_type": "code",
   "execution_count": 35,
   "metadata": {},
   "outputs": [
    {
     "name": "stdout",
     "output_type": "stream",
     "text": [
      "40.7046387,-74.0167729\n"
     ]
    },
    {
     "data": {
      "text/plain": [
       "['40.7046387,-74.0167729']"
      ]
     },
     "execution_count": 35,
     "metadata": {},
     "output_type": "execute_result"
    }
   ],
   "source": [
    "extract_intersections(osm=\"map (1).osm\", verbose=True)"
   ]
  },
  {
   "cell_type": "code",
   "execution_count": 36,
   "metadata": {},
   "outputs": [],
   "source": [
    "osm = 'map (1).osm'\n",
    "tree = ET.parse(osm)\n",
    "root = tree.getroot()\n",
    "counter = {}\n",
    "tag_list = []\n",
    "for child in root:\n",
    "    tag_list.append(child.tag)\n",
    "    for item in child"
   ]
  },
  {
   "cell_type": "code",
   "execution_count": 57,
   "metadata": {},
   "outputs": [],
   "source": [
    "from bs4 import BeautifulSoup as bs\n",
    "import requests as req\n",
    "from pprint import *"
   ]
  },
  {
   "cell_type": "code",
   "execution_count": 40,
   "metadata": {},
   "outputs": [
    {
     "name": "stdout",
     "output_type": "stream",
     "text": [
      "<Response [200]>\n"
     ]
    }
   ],
   "source": [
    "url = \"https://www.openstreetmap.org/export#map=18/40.70350/-74.01179\"\n",
    "r = req.get(url)\n",
    "print(r)\n"
   ]
  },
  {
   "cell_type": "code",
   "execution_count": 44,
   "metadata": {},
   "outputs": [
    {
     "name": "stdout",
     "output_type": "stream",
     "text": [
      "/bin/sh: wget: command not found\r\n"
     ]
    }
   ],
   "source": [
    "!wget -c -O osm_test.osm \"https://www.openstreetmap.org/export#map=18/40.70350/-74.01179\"\n"
   ]
  },
  {
   "cell_type": "code",
   "execution_count": 49,
   "metadata": {},
   "outputs": [
    {
     "name": "stdout",
     "output_type": "stream",
     "text": [
      "/bin/sh: wget: command not found\r\n"
     ]
    }
   ],
   "source": [
    "!wget -c -O osm_test.osm \"http://api.openstreetmap.org/api/0.6/map?bbox=11.54,48.14,11.543,48.145\"\n"
   ]
  },
  {
   "cell_type": "code",
   "execution_count": 53,
   "metadata": {},
   "outputs": [],
   "source": [
    "url = \"https://www.openstreetmap.org/export#map=18/40.70350/-74.01179\""
   ]
  },
  {
   "cell_type": "code",
   "execution_count": 54,
   "metadata": {},
   "outputs": [],
   "source": [
    "r = req.get(url).content"
   ]
  },
  {
   "cell_type": "code",
   "execution_count": 59,
   "metadata": {},
   "outputs": [],
   "source": [
    "soup = bs(r,features='xml')"
   ]
  },
  {
   "cell_type": "code",
   "execution_count": 60,
   "metadata": {},
   "outputs": [
    {
     "data": {
      "text/plain": [
       "<?xml version=\"1.0\" encoding=\"utf-8\"?>\n",
       "<!DOCTYPE html>\n",
       "<html dir=\"ltr\" lang=\"en\">\n",
       "<head data-locale=\"en\" data-preferred-editor=\"id\">\n",
       "<meta content=\"IE=edge\" http-equiv=\"X-UA-Compatible\"/>\n",
       "<meta content=\"width=device-width, minimum-scale=1.0, maximum-scale=1.0\" name=\"viewport\"/>\n",
       "<!--[if lt IE 9]><script src=\"/assets/html5shiv-c43200bf995fc643e0df32a2333ec339315792a0a35562a5359d8937c2e8751c.js\"></script><![endif]-->\n",
       "<script src=\"/assets/application-c6914db5deb727a9de77f6c5f323205b9d19493edfa2d5aed5f8d63915f688da.js\"/>\n",
       "<script src=\"/assets/i18n/en-62ba8efd204d5ed6530c3f0efdf5398267b1e81ad4e96830bd51bdff3b392499.js\"/>\n",
       "<link href=\"/assets/screen-ltr-616ae794d427cbf65287b1d38891f14064c3c934d989602f0282ff4e9b1d1b89.css\" media=\"screen\" rel=\"stylesheet\"/>\n",
       "<link href=\"/assets/print-ltr-f0e982d0ba074e914962563e26dfc48b3d2d9a05e5442932889cec8769cd2eaf.css\" media=\"print\" rel=\"stylesheet\"/>\n",
       "<link href=\"/assets/leaflet-all-a878e71edd24dbf51d0e09442fa6bfab6fbc092ca273be4cb41948f751bafed6.css\" media=\"screen, print\" rel=\"stylesheet\"/>\n",
       "<!--[if IE]>\n",
       "    <link rel=\"shortcut icon\" type=\"image/x-icon\" href=\"/assets/favicon-bf2dfee28b5006e3ea82ef78ae7f42adc1e2024165fbd39cadc9517a7d2bd8bf.ico\" />\n",
       "  <![endif]-->\n",
       "<link href=\"/assets/apple-touch-icon-57x57-cfd080abd483a2c8325da06a5a4687ffed69173bb7b7e62d4409ed61674677bd.png\" rel=\"apple-touch-icon\" sizes=\"57x57\" type=\"image/png\"/>\n",
       "<link href=\"/assets/apple-touch-icon-60x60-d000d708a51e48a61fdeb79701ab6e003b9e6096d5a26e446bf85e2cdb9fb138.png\" rel=\"apple-touch-icon\" sizes=\"60x60\" type=\"image/png\"/>\n",
       "<link href=\"/assets/apple-touch-icon-72x72-2146604316355b588fa0e9c53c5bda0b14eafddd0b939686356ac0096880e35d.png\" rel=\"apple-touch-icon\" sizes=\"72x72\" type=\"image/png\"/>\n",
       "<link href=\"/assets/apple-touch-icon-76x76-61f3dde6d2f60f2c5fb784df4b5014c9fcad1aa0c01766f33e198e9e555d39da.png\" rel=\"apple-touch-icon\" sizes=\"76x76\" type=\"image/png\"/>\n",
       "<link href=\"/assets/apple-touch-icon-114x114-53f58fc4c9ff46247f0f3ea9def90162f244631c936394860c3be0bd6645a35c.png\" rel=\"apple-touch-icon\" sizes=\"114x114\" type=\"image/png\"/>\n",
       "<link href=\"/assets/apple-touch-icon-120x120-d4eab8b7f42848d8a68045ef10b959b2c279d9ba2b3198520d5fb880de3d938c.png\" rel=\"apple-touch-icon\" sizes=\"120x120\" type=\"image/png\"/>\n",
       "<link href=\"/assets/apple-touch-icon-144x144-3ec9ac978fb7bb554bd79d1ca05c3689e3deb12e3d2b5b5e73962cd731b1499c.png\" rel=\"apple-touch-icon\" sizes=\"144x144\" type=\"image/png\"/>\n",
       "<link href=\"/assets/apple-touch-icon-152x152-385ae90aa77bd2efc9dfa42a91cabe973122044f554e8e19c94039be6aff9b26.png\" rel=\"apple-touch-icon\" sizes=\"152x152\" type=\"image/png\"/>\n",
       "<link href=\"/assets/apple-touch-icon-180x180-8575b865b66da9ea7452adf3c20f9eb715ee4290254a22987c483c3826b93205.png\" rel=\"apple-touch-icon\" sizes=\"180x180\" type=\"image/png\"/>\n",
       "<link href=\"/assets/favicon-32x32-76de1055b40f75be27792fdfc07df23963926c47648cc66d0189c87827ebeea2.png\" rel=\"icon\" sizes=\"32x32\" type=\"image/png\"/>\n",
       "<link href=\"/assets/favicon-194x194-e43358b5598e0a9b73eb2da5c3cc99a53336d6c3d3f761d52c75e3f25dd760dd.png\" rel=\"icon\" sizes=\"194x194\" type=\"image/png\"/>\n",
       "<link href=\"/assets/favicon-96x96-3f49f5b5ebbc6b674b859858266939edc95b2d7f97979470702f2d3fa9082819.png\" rel=\"icon\" sizes=\"96x96\" type=\"image/png\"/>\n",
       "<link href=\"/assets/android-chrome-192x192-edb313ad64ec75f942ce3416e9d18c2021f682275f4d992696caa2695e882fbd.png\" rel=\"icon\" sizes=\"192x192\" type=\"image/png\"/>\n",
       "<link href=\"/assets/favicon-16x16-1772a97682f5b3f45c3f98c18f98634808b637a5595026962709fb54af9b9044.png\" rel=\"icon\" sizes=\"16x16\" type=\"image/png\"/>\n",
       "<link color=\"#7ebc6f\" href=\"/assets/tab-icon-2750d30fb8511d6a07bf6dd87cb58a27e8a17d145eadfb886d9a0400796de96f.svg\" rel=\"mask-icon\"/>\n",
       "<link href=\"/assets/manifest-63908e296e51e1608ae31ec3c7c39eb12b544bd1459921a2e42298604de3ff45.json\" rel=\"manifest\"/>\n",
       "<meta content=\"/assets/browserconfig-807d291ce027322cda4de0189eb2bbc65919dc2de8df7d4d389b6da4aa9f899c.xml\" name=\"msapplication-config\"/>\n",
       "<meta content=\"#00a300\" name=\"msapplication-TileColor\"/>\n",
       "<meta content=\"/assets/mstile-144x144-ddbe37d9292379699901d3522682c6b24e0223849b5ef0730d1da3b924463376.png\" name=\"msapplication-TileImage\"/>\n",
       "<meta content=\"#ffffff\" name=\"theme-color\"/>\n",
       "<link href=\"https://www.openstreetmap.org/export\" rel=\"canonical\"/>\n",
       "<link href=\"https://plus.google.com/111953119785824514010\" rel=\"publisher\"/>\n",
       "<link href=\"/assets/osm-0aa4c48d8b5195b33e6e63fe57ac81e9c3d19fcf98e0f09a3f67a83456b9a6b4.xml\" rel=\"search\" title=\"OpenStreetMap Search\" type=\"application/opensearchdescription+xml\"/>\n",
       "<meta content=\"OpenStreetMap is the free wiki world map.\" name=\"description\"/>\n",
       "<meta content=\"OpenStreetMap\" property=\"og:site_name\"/><meta content=\"Export | OpenStreetMap\" property=\"og:title\"/><meta content=\"website\" property=\"og:type\"/><meta content=\"https://www.openstreetmap.org/assets/osm_logo_256-cde84d7490f0863c7a0b0d0a420834ebd467c1214318167d0f9a39f25a44d6bd.png\" property=\"og:image\"/><meta content=\"https://www.openstreetmap.org/assets/osm_logo_256-cde84d7490f0863c7a0b0d0a420834ebd467c1214318167d0f9a39f25a44d6bd.png\" property=\"og:image:secure_url\"/><meta content=\"https://www.openstreetmap.org/export\" property=\"og:url\"/><meta content=\"OpenStreetMap is a map of the world, created by people like you and free to use under an open license.\" property=\"og:description\"/>\n",
       "<script src=\"/assets/index-006fdf4a9bb68cef33408c3f21b2e7dedee95811d9423a136bdc654134527238.js\"/>\n",
       "<meta content=\"authenticity_token\" name=\"csrf-param\"/>\n",
       "<meta content=\"1XY2tu0S6GLqjJTeBYlRDb+iUS2j86v5bmuKCzEzl5mXij7QfnQTvCt8yiSQC2C1ycYS71N0toNS+XxlX8ltBg==\" name=\"csrf-token\"/>\n",
       "<title>Export | OpenStreetMap</title>\n",
       "</head>\n",
       "<body class=\"map-layout\">\n",
       "<header class=\"closed\">\n",
       "<h1>\n",
       "<a class=\"geolink\" href=\"/\">\n",
       "<picture>\n",
       "<source srcset=\"/assets/osm_logo-f13314123f336d32682fddc79f2a5f0dedc894c637decede98a41587340dad19.svg\" type=\"image/svg+xml\"/>\n",
       "<img alt=\"OpenStreetMap logo\" class=\"logo\" src=\"/assets/osm_logo-ce691ac3325e0ebe119ff9087858192cc7677e50d7b77655cafc1f208161ad79.png\" srcset=\"/assets/osm_logo-f13314123f336d32682fddc79f2a5f0dedc894c637decede98a41587340dad19.svg\"/>\n",
       "</picture>\n",
       "      OpenStreetMap\n",
       "    </a>\n",
       "</h1>\n",
       "<a href=\"#\" id=\"menu-icon\"/>\n",
       "<nav class=\"primary\">\n",
       "<div class=\"search_forms\">\n",
       "<form action=\"/search\" class=\"search_form\" method=\"GET\">\n",
       "<a class=\"button switch_link\" href=\"/directions\" title=\"Find directions between two points\"><img class=\"button\" src=\"/assets/directions-40b86df47e67e386cb848cb45095c340f45a8283778f9205e3ae9cc1b371dc65.png\"/></a>\n",
       "<input class=\"float\" name=\"commit\" type=\"submit\" value=\"Go\"/>\n",
       "<div class=\"query_wrapper\">\n",
       "<input class=\"overflow\" id=\"query\" name=\"query\" placeholder=\"Search\" type=\"text\"/>\n",
       "<a class=\"describe_location\" href=\"#\" title=\"Describe the current location using the search engine\">Where is this?</a>\n",
       "</div>\n",
       "</form>\n",
       "<form action=\"/directions\" class=\"directions_form\" method=\"GET\">\n",
       "<div class=\"header\"><span class=\"icon close\"/></div>\n",
       "<div class=\"line\">\n",
       "<img class=\"routing_marker\" data-type=\"from\" draggable=\"true\" src=\"/assets/marker-green-0100e0bfbed70ac6d70f6d35830ad76565feecba496f9af69dcab09d178ca300.png\"/>\n",
       "<span class=\"force_width\"><input id=\"route_from\" name=\"route_from\" placeholder=\"From\" type=\"text\"/></span>\n",
       "</div>\n",
       "<div class=\"line\">\n",
       "<img class=\"routing_marker\" data-type=\"to\" draggable=\"true\" src=\"/assets/marker-red-b8123e4c4dfb37f82e57056da8d1caa9a865c07b8b4dd254c923cdb7ea5964b0.png\"/>\n",
       "<span class=\"force_width\"><input id=\"route_to\" name=\"route_to\" placeholder=\"To\" type=\"text\"/></span>\n",
       "</div>\n",
       "<div class=\"line\">\n",
       "<select class=\"routing_engines\" name=\"routing_engines\"/>\n",
       "<input class=\"routing_go\" name=\"commit\" type=\"submit\" value=\"Go\"/>\n",
       "</div>\n",
       "<div class=\"line\">\n",
       "<a class=\"reverse_directions\">Reverse Directions</a>\n",
       "</div>\n",
       "<div class=\"loader_copy\"><div class=\"loader\"><img src=\"/assets/searching-d2110831ff86cb780e0911cd005e82482bfc71a0c626b56812ece6d52db2e6e0.gif\"/></div></div>\n",
       "</form>\n",
       "</div>\n",
       "<ul>\n",
       "<li class=\"dropdown \" id=\"edit_tab\">\n",
       "<a class=\"tab geolink editlink\" data-editor=\"id\" href=\"/edit\" id=\"editanchor\">Edit</a><a class=\"dropdown-toggle\" data-toggle=\"dropdown\" href=\"#\"><b class=\"caret\"/></a>\n",
       "<ul class=\"dropdown-menu\">\n",
       "<li>\n",
       "<a class=\"geolink editlink\" data-editor=\"id\" href=\"/edit?editor=id\">Edit with iD (in-browser editor)</a>\n",
       "</li>\n",
       "<li>\n",
       "<a class=\"geolink editlink\" data-editor=\"potlatch2\" href=\"/edit?editor=potlatch2\">Edit with Potlatch 2 (in-browser editor)</a>\n",
       "</li>\n",
       "<li>\n",
       "<a class=\"geolink editlink\" data-editor=\"remote\" href=\"/edit?editor=remote\">Edit with Remote Control (JOSM or Merkaartor)</a>\n",
       "</li>\n",
       "</ul>\n",
       "</li>\n",
       "<li class=\"\" id=\"history_tab\">\n",
       "<a class=\"tab geolink\" href=\"/history\">History</a>\n",
       "</li>\n",
       "<li class=\"current\" id=\"export_tab\">\n",
       "<a class=\"tab geolink\" href=\"/export\">Export</a>\n",
       "</li>\n",
       "</ul>\n",
       "</nav>\n",
       "<nav class=\"secondary\">\n",
       "<ul>\n",
       "<li class=\"compact-hide \"><a href=\"/traces\">GPS Traces</a></li>\n",
       "<li class=\"compact-hide \"><a href=\"/diary\">User Diaries</a></li>\n",
       "<li class=\"compact-hide \"><a href=\"/copyright\">Copyright</a></li>\n",
       "<li class=\"compact-hide \"><a href=\"/help\">Help</a></li>\n",
       "<li class=\"compact-hide \"><a href=\"/about\">About</a></li>\n",
       "<li class=\"dropdown\" id=\"compact-secondary-nav\">\n",
       "<a class=\"dropdown-toggle\" data-toggle=\"dropdown\" href=\"#\">More <b class=\"caret\"/></a>\n",
       "<ul class=\"dropdown-menu\">\n",
       "<li class=\"\"><a href=\"/traces\">GPS Traces</a></li>\n",
       "<li class=\"\"><a href=\"/diary\">User Diaries</a></li>\n",
       "<li class=\"\"><a href=\"/copyright\">Copyright</a></li>\n",
       "<li class=\"\"><a href=\"/help\">Help</a></li>\n",
       "<li class=\"\"><a href=\"/about\">About</a></li>\n",
       "</ul>\n",
       "</li>\n",
       "</ul>\n",
       "<ul class=\"user-menu clearfix\">\n",
       "<li><a href=\"/login?referer=%2Fexport\">Log In</a></li>\n",
       "<li><a href=\"/user/new\">Sign Up</a></li>\n",
       "</ul>\n",
       "</nav>\n",
       "</header>\n",
       "<div class=\"\" id=\"content\">\n",
       "<div id=\"sidebar\">\n",
       "<div class=\"search_forms\">\n",
       "<form action=\"/search\" class=\"search_form\" method=\"GET\">\n",
       "<a class=\"button switch_link\" href=\"/directions\" title=\"Find directions between two points\"><img class=\"button\" src=\"/assets/directions-40b86df47e67e386cb848cb45095c340f45a8283778f9205e3ae9cc1b371dc65.png\"/></a>\n",
       "<input class=\"float\" name=\"commit\" type=\"submit\" value=\"Go\"/>\n",
       "<div class=\"query_wrapper\">\n",
       "<input autofocus=\"autofocus\" class=\"overflow\" id=\"query\" name=\"query\" placeholder=\"Search\" type=\"text\"/>\n",
       "<a class=\"describe_location\" href=\"#\" title=\"Describe the current location using the search engine\">Where is this?</a>\n",
       "</div>\n",
       "</form>\n",
       "<form action=\"/directions\" class=\"directions_form\" method=\"GET\">\n",
       "<div class=\"header\"><span class=\"icon close\"/></div>\n",
       "<div class=\"line\">\n",
       "<img class=\"routing_marker\" data-type=\"from\" draggable=\"true\" src=\"/assets/marker-green-0100e0bfbed70ac6d70f6d35830ad76565feecba496f9af69dcab09d178ca300.png\"/>\n",
       "<span class=\"force_width\"><input id=\"route_from\" name=\"route_from\" placeholder=\"From\" type=\"text\"/></span>\n",
       "</div>\n",
       "<div class=\"line\">\n",
       "<img class=\"routing_marker\" data-type=\"to\" draggable=\"true\" src=\"/assets/marker-red-b8123e4c4dfb37f82e57056da8d1caa9a865c07b8b4dd254c923cdb7ea5964b0.png\"/>\n",
       "<span class=\"force_width\"><input id=\"route_to\" name=\"route_to\" placeholder=\"To\" type=\"text\"/></span>\n",
       "</div>\n",
       "<div class=\"line\">\n",
       "<select class=\"routing_engines\" name=\"routing_engines\"/>\n",
       "<input class=\"routing_go\" name=\"commit\" type=\"submit\" value=\"Go\"/>\n",
       "</div>\n",
       "<div class=\"line\">\n",
       "<a class=\"reverse_directions\">Reverse Directions</a>\n",
       "</div>\n",
       "<div class=\"loader_copy\"><div class=\"loader\"><img src=\"/assets/searching-d2110831ff86cb780e0911cd005e82482bfc71a0c626b56812ece6d52db2e6e0.gif\"/></div></div>\n",
       "</form>\n",
       "</div>\n",
       "<div id=\"flash\">\n",
       "</div>\n",
       "<div id=\"browse_status\"/>\n",
       "<div id=\"sidebar_loader\">\n",
       "<img alt=\"Loading...\" class=\"loader\" src=\"/assets/searching-d2110831ff86cb780e0911cd005e82482bfc71a0c626b56812ece6d52db2e6e0.gif\">\n",
       "</img>\n",
       "<div id=\"sidebar_content\">\n",
       "<h2>\n",
       "<a class=\"geolink\" href=\"/\"><span class=\"icon close\"/></a>\n",
       "  Export\n",
       "</h2>\n",
       "<form accept-charset=\"UTF-8\" action=\"/export/finish\" class=\"export_form\" method=\"post\"><input name=\"utf8\" type=\"hidden\" value=\"✓\"/><input name=\"authenticity_token\" type=\"hidden\" value=\"vWjaWffs+12+0WKs/0gsGJwhx9ABaeKafLaTO6tmg/z8lOaiGdgDTpuWu/a/Lgk5OvPcAbmWiz67uzUgqQJWVQ==\"/>\n",
       "<input id=\"format\" name=\"format\" type=\"hidden\" value=\"osm\"/>\n",
       "<div class=\"export_area_inputs\">\n",
       "<div class=\"export_boxy\">\n",
       "<input class=\"export_bound\" id=\"maxlat\" name=\"maxlat\" size=\"10\" type=\"text\"/>\n",
       "<br/>\n",
       "<input class=\"export_bound\" id=\"minlon\" name=\"minlon\" size=\"10\" type=\"text\"/>\n",
       "<input class=\"export_bound\" id=\"maxlon\" name=\"maxlon\" size=\"10\" type=\"text\"/>\n",
       "<br/><br/>\n",
       "<input class=\"export_bound\" id=\"minlat\" name=\"minlat\" size=\"10\" type=\"text\"/>\n",
       "</div>\n",
       "<a href=\"#\" id=\"drag_box\">Manually select a different area</a>\n",
       "</div>\n",
       "<h4>Licence</h4>\n",
       "<p>OpenStreetMap data is licensed under the <a href=\"https://opendatacommons.org/licenses/odbl/1.0/\">Open Data Commons Open Database License</a> (ODbL).</p>\n",
       "<div id=\"export_osm_too_large\">\n",
       "<p class=\"warning\">\n",
       "      This area is too large to be exported as OpenStreetMap XML Data. Please zoom in or select a smaller area, or use one of the sources listed below for bulk data downloads.\n",
       "    </p>\n",
       "</div>\n",
       "<div id=\"export_commit\">\n",
       "<div class=\"export_button\">\n",
       "<input data-disable-with=\"Export\" name=\"commit\" type=\"submit\" value=\"Export\"/>\n",
       "</div>\n",
       "<p>If the above export fails, please consider using one of the sources listed below:</p>\n",
       "</div>\n",
       "<dl class=\"inner12\">\n",
       "<dt><a href=\"https://overpass-api.de/api/map?bbox=\" id=\"export_overpass\">Overpass API</a></dt>\n",
       "<dd>Download this bounding box from a mirror of the OpenStreetMap database</dd>\n",
       "<dt><a href=\"https://planet.openstreetmap.org/\">Planet OSM</a></dt>\n",
       "<dd>Regularly-updated copies of the complete OpenStreetMap database</dd>\n",
       "<dt><a href=\"https://download.geofabrik.de/\">Geofabrik Downloads</a></dt>\n",
       "<dd>Regularly-updated extracts of continents, countries, and selected cities</dd>\n",
       "<dt><a href=\"https://wiki.openstreetmap.org/wiki/Download\">Other Sources</a></dt>\n",
       "<dd>Additional sources listed on the OpenStreetMap wiki</dd>\n",
       "</dl>\n",
       "</form>\n",
       "</div>\n",
       "<div class=\"welcome\">\n",
       "<h2>Welcome to OpenStreetMap!</h2>\n",
       "<div class=\"close-wrap\"><span class=\"icon close\"/></div>\n",
       "<p>OpenStreetMap is a map of the world, created by people like you and free to use under an open license.</p>\n",
       "<p>Hosting is supported by <a href=\"https://www.ucl.ac.uk\">UCL</a>, <a href=\"https://www.bytemark.co.uk\">Bytemark Hosting</a>, and other <a href=\"https://hardware.openstreetmap.org/thanks/\">partners</a>.\n",
       "        </p>\n",
       "<a class=\"button learn-more\" href=\"/about\">Learn More</a>\n",
       "<a class=\"button sign-up\" href=\"/user/new\">Start Mapping</a>\n",
       "</div>\n",
       "<div id=\"banner\">\n",
       "</div>\n",
       "</div>\n",
       "<noscript>\n",
       "<div id=\"noscript\">\n",
       "<p>You are either using a browser that does not support JavaScript, or you have disabled JavaScript.</p>\n",
       "<p>OpenStreetMap uses JavaScript for its slippy map.</p>\n",
       "</div>\n",
       "</noscript>\n",
       "<div id=\"map-ui\">\n",
       "</div>\n",
       "<div id=\"map\" tabindex=\"2\">\n",
       "</div>\n",
       "<div id=\"attribution\">\n",
       "<table>\n",
       "<tr>\n",
       "<td class=\"attribution_license\">https://openstreetmap.org/copyright</td>\n",
       "<td class=\"attribution_project\">https://openstreetmap.org</td>\n",
       "</tr>\n",
       "<tr>\n",
       "<td class=\"attribution_notice\" colspan=\"2\">Copyright OpenStreetMap and contributors, under an open license</td>\n",
       "</tr>\n",
       "</table>\n",
       "</div>\n",
       "</div>\n",
       "<noscript><p><img alt=\"\" class=\"piwik\" src=\"https://piwik.openstreetmap.org/piwik.php?idsite=1\"/></p></noscript>\n",
       "</div>\n",
       "</body>\n",
       "</html>"
      ]
     },
     "execution_count": 60,
     "metadata": {},
     "output_type": "execute_result"
    }
   ],
   "source": [
    "soup"
   ]
  },
  {
   "cell_type": "code",
   "execution_count": null,
   "metadata": {},
   "outputs": [],
   "source": []
  }
 ],
 "metadata": {
  "kernelspec": {
   "display_name": "Python 3",
   "language": "python",
   "name": "python3"
  },
  "language_info": {
   "codemirror_mode": {
    "name": "ipython",
    "version": 3
   },
   "file_extension": ".py",
   "mimetype": "text/x-python",
   "name": "python",
   "nbconvert_exporter": "python",
   "pygments_lexer": "ipython3",
   "version": "3.6.5"
  }
 },
 "nbformat": 4,
 "nbformat_minor": 2
}
