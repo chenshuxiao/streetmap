{
 "cells": [
  {
   "cell_type": "markdown",
   "metadata": {},
   "source": [
    "## 1. Package Preparation"
   ]
  },
  {
   "cell_type": "code",
   "execution_count": 1,
   "metadata": {},
   "outputs": [
    {
     "name": "stderr",
     "output_type": "stream",
     "text": [
      "Using TensorFlow backend.\n"
     ]
    },
    {
     "name": "stdout",
     "output_type": "stream",
     "text": [
      "The backend is: tensorflow\n",
      "tf\n",
      "1.11.0\n",
      "2.2.4\n"
     ]
    }
   ],
   "source": [
    "#import packages\n",
    "\n",
    "# clear warnings\n",
    "import warnings\n",
    "warnings.simplefilter(\"ignore\")\n",
    "\n",
    "# import keras data\n",
    "from keras import backend as K\n",
    "K.set_image_dim_ordering('tf') # note that we need to have tensorflow dimension ordering still because of the weigths.\n",
    "print('The backend is:',K.backend())\n",
    "import tensorflow as tf\n",
    "print(K.image_dim_ordering()) # should say tf\n",
    "print(tf.__version__) # tested for 1.11.0\n",
    "import cv2\n",
    "import keras\n",
    "print(keras.__version__) # tested for 2.2.4"
   ]
  },
  {
   "cell_type": "code",
   "execution_count": 2,
   "metadata": {},
   "outputs": [],
   "source": [
    "# Import relevant packages\n",
    "from __future__ import absolute_import, division, print_function # make it compatible w Python 2\n",
    "import os\n",
    "import h5py # to handle weights\n",
    "import os, random\n",
    "import numpy as np\n",
    "import pandas as pd\n",
    "\n",
    "import matplotlib.pyplot as plt\n",
    "%matplotlib inline \n",
    "\n",
    "# to read image\n",
    "from PIL import Image\n",
    "\n",
    "# relative keras packages\n",
    "from keras.models import Sequential\n",
    "from keras.layers import LSTM, Input, Dropout, Flatten, Convolution2D, MaxPooling2D, Dense, Activation, ZeroPadding2D\n",
    "from keras.optimizers import RMSprop, SGD\n",
    "from keras.callbacks import ModelCheckpoint, Callback, EarlyStopping\n",
    "from keras.utils import np_utils\n",
    "from keras.preprocessing.image import ImageDataGenerator\n",
    "from keras.preprocessing.image import array_to_img, img_to_array, load_img\n",
    "from keras.models import model_from_json\n",
    "from keras.preprocessing import image\n",
    "\n",
    "# useful packages from sklearn\n",
    "import sklearn\n",
    "from sklearn.model_selection import train_test_split\n",
    "from sklearn.preprocessing import scale\n",
    "\n",
    "from IPython.display import Image, display\n",
    "\n",
    "# fix random seed for reproducibility\n",
    "np.random.seed(150)"
   ]
  },
  {
   "cell_type": "markdown",
   "metadata": {},
   "source": [
    "## 2. Read data from preprocessed pickle file"
   ]
  },
  {
   "cell_type": "code",
   "execution_count": 3,
   "metadata": {},
   "outputs": [],
   "source": [
    "# We have preprocessed our data and saved in a pickle file\n",
    "# Now we only need to read this pickle file\n",
    "map_data = pd.read_pickle('position_df.pkl')"
   ]
  },
  {
   "cell_type": "code",
   "execution_count": 4,
   "metadata": {},
   "outputs": [
    {
     "data": {
      "text/html": [
       "<div>\n",
       "<style scoped>\n",
       "    .dataframe tbody tr th:only-of-type {\n",
       "        vertical-align: middle;\n",
       "    }\n",
       "\n",
       "    .dataframe tbody tr th {\n",
       "        vertical-align: top;\n",
       "    }\n",
       "\n",
       "    .dataframe thead th {\n",
       "        text-align: right;\n",
       "    }\n",
       "</style>\n",
       "<table border=\"1\" class=\"dataframe\">\n",
       "  <thead>\n",
       "    <tr style=\"text-align: right;\">\n",
       "      <th></th>\n",
       "      <th>location</th>\n",
       "      <th>index</th>\n",
       "      <th>label</th>\n",
       "      <th>image</th>\n",
       "    </tr>\n",
       "  </thead>\n",
       "  <tbody>\n",
       "    <tr>\n",
       "      <th>0</th>\n",
       "      <td>(40.7215815,-73.9977854)</td>\n",
       "      <td>9</td>\n",
       "      <td>3</td>\n",
       "      <td>[[[65, 39, 35], [65, 39, 35], [73, 47, 43], [7...</td>\n",
       "    </tr>\n",
       "    <tr>\n",
       "      <th>1</th>\n",
       "      <td>(40.7214509,-73.9973979)</td>\n",
       "      <td>11</td>\n",
       "      <td>4</td>\n",
       "      <td>[[[65, 40, 36], [69, 36, 36], [69, 36, 36], [7...</td>\n",
       "    </tr>\n",
       "    <tr>\n",
       "      <th>2</th>\n",
       "      <td>(40.7208958,-73.9957503)</td>\n",
       "      <td>12</td>\n",
       "      <td>4</td>\n",
       "      <td>[[[65, 51, 53], [66, 52, 79], [66, 52, 79], [7...</td>\n",
       "    </tr>\n",
       "    <tr>\n",
       "      <th>3</th>\n",
       "      <td>(40.7211736,-73.9965747)</td>\n",
       "      <td>13</td>\n",
       "      <td>4</td>\n",
       "      <td>[[[104, 92, 100], [104, 88, 96], [100, 88, 96]...</td>\n",
       "    </tr>\n",
       "    <tr>\n",
       "      <th>4</th>\n",
       "      <td>(40.7206316,-73.9949663)</td>\n",
       "      <td>14</td>\n",
       "      <td>4</td>\n",
       "      <td>[[[144, 136, 140], [138, 132, 137], [130, 122,...</td>\n",
       "    </tr>\n",
       "  </tbody>\n",
       "</table>\n",
       "</div>"
      ],
      "text/plain": [
       "                   location  index label  \\\n",
       "0  (40.7215815,-73.9977854)      9     3   \n",
       "1  (40.7214509,-73.9973979)     11     4   \n",
       "2  (40.7208958,-73.9957503)     12     4   \n",
       "3  (40.7211736,-73.9965747)     13     4   \n",
       "4  (40.7206316,-73.9949663)     14     4   \n",
       "\n",
       "                                               image  \n",
       "0  [[[65, 39, 35], [65, 39, 35], [73, 47, 43], [7...  \n",
       "1  [[[65, 40, 36], [69, 36, 36], [69, 36, 36], [7...  \n",
       "2  [[[65, 51, 53], [66, 52, 79], [66, 52, 79], [7...  \n",
       "3  [[[104, 92, 100], [104, 88, 96], [100, 88, 96]...  \n",
       "4  [[[144, 136, 140], [138, 132, 137], [130, 122,...  "
      ]
     },
     "execution_count": 4,
     "metadata": {},
     "output_type": "execute_result"
    }
   ],
   "source": [
    "map_data.head()"
   ]
  },
  {
   "cell_type": "markdown",
   "metadata": {},
   "source": [
    "The column 'index' in the map_data above is used to help match the location data for the 'location' column.\n",
    "\n",
    "We only need the data in the 'label' column and 'image' column to train our model, so we drop those two unnecessary columns."
   ]
  },
  {
   "cell_type": "code",
   "execution_count": 5,
   "metadata": {},
   "outputs": [],
   "source": [
    "map_data.drop(['location','index'],axis=1,inplace=True)"
   ]
  },
  {
   "cell_type": "code",
   "execution_count": 6,
   "metadata": {},
   "outputs": [
    {
     "data": {
      "text/html": [
       "<div>\n",
       "<style scoped>\n",
       "    .dataframe tbody tr th:only-of-type {\n",
       "        vertical-align: middle;\n",
       "    }\n",
       "\n",
       "    .dataframe tbody tr th {\n",
       "        vertical-align: top;\n",
       "    }\n",
       "\n",
       "    .dataframe thead th {\n",
       "        text-align: right;\n",
       "    }\n",
       "</style>\n",
       "<table border=\"1\" class=\"dataframe\">\n",
       "  <thead>\n",
       "    <tr style=\"text-align: right;\">\n",
       "      <th></th>\n",
       "      <th>label</th>\n",
       "      <th>image</th>\n",
       "    </tr>\n",
       "  </thead>\n",
       "  <tbody>\n",
       "    <tr>\n",
       "      <th>0</th>\n",
       "      <td>3</td>\n",
       "      <td>[[[65, 39, 35], [65, 39, 35], [73, 47, 43], [7...</td>\n",
       "    </tr>\n",
       "    <tr>\n",
       "      <th>1</th>\n",
       "      <td>4</td>\n",
       "      <td>[[[65, 40, 36], [69, 36, 36], [69, 36, 36], [7...</td>\n",
       "    </tr>\n",
       "    <tr>\n",
       "      <th>2</th>\n",
       "      <td>4</td>\n",
       "      <td>[[[65, 51, 53], [66, 52, 79], [66, 52, 79], [7...</td>\n",
       "    </tr>\n",
       "    <tr>\n",
       "      <th>3</th>\n",
       "      <td>4</td>\n",
       "      <td>[[[104, 92, 100], [104, 88, 96], [100, 88, 96]...</td>\n",
       "    </tr>\n",
       "    <tr>\n",
       "      <th>4</th>\n",
       "      <td>4</td>\n",
       "      <td>[[[144, 136, 140], [138, 132, 137], [130, 122,...</td>\n",
       "    </tr>\n",
       "  </tbody>\n",
       "</table>\n",
       "</div>"
      ],
      "text/plain": [
       "  label                                              image\n",
       "0     3  [[[65, 39, 35], [65, 39, 35], [73, 47, 43], [7...\n",
       "1     4  [[[65, 40, 36], [69, 36, 36], [69, 36, 36], [7...\n",
       "2     4  [[[65, 51, 53], [66, 52, 79], [66, 52, 79], [7...\n",
       "3     4  [[[104, 92, 100], [104, 88, 96], [100, 88, 96]...\n",
       "4     4  [[[144, 136, 140], [138, 132, 137], [130, 122,..."
      ]
     },
     "execution_count": 6,
     "metadata": {},
     "output_type": "execute_result"
    }
   ],
   "source": [
    "# Show the head of our map_data\n",
    "map_data.head()"
   ]
  },
  {
   "cell_type": "markdown",
   "metadata": {},
   "source": [
    "## 3. Split data for cross validation"
   ]
  },
  {
   "cell_type": "code",
   "execution_count": 64,
   "metadata": {},
   "outputs": [],
   "source": [
    "Xs = pd.DataFrame(map_data.iloc[:,1])\n",
    "ys = pd.DataFrame(map_data.iloc[:,0])\n",
    "ys['label'] = ys['label'].apply(lambda x: int(x))"
   ]
  },
  {
   "cell_type": "code",
   "execution_count": 65,
   "metadata": {},
   "outputs": [],
   "source": [
    "# Split data into training data (including training and validation) and test data\n",
    "X_train, X_test, y_train, y_test = train_test_split(Xs, ys, test_size = 0.2, random_state = 0)"
   ]
  },
  {
   "cell_type": "code",
   "execution_count": 66,
   "metadata": {},
   "outputs": [],
   "source": [
    "# Split training data into true training data and validation data\n",
    "X_train, X_val, y_train, y_val = train_test_split(X_train, y_train, test_size = 0.2, random_state = 0)"
   ]
  },
  {
   "cell_type": "code",
   "execution_count": 67,
   "metadata": {},
   "outputs": [
    {
     "name": "stdout",
     "output_type": "stream",
     "text": [
      "The shape of the first item of X_train is (640, 640, 3)\n",
      "The length of X_train is 2235\n",
      "The shape of the first item of X_val is (640, 640, 3)\n",
      "The length of X_val is 559\n",
      "The shape of the first item of X_test is (640, 640, 3)\n",
      "The length of X_test is 699\n",
      "The type and value of the first item of y_train is <class 'numpy.int64'> 0\n",
      "The length of y_train is 2235\n",
      "The shape of the first item of y_val is <class 'numpy.int64'> 4\n",
      "The length of y_val is 559\n",
      "The type and value of the first item of y_test is <class 'numpy.int64'> 1\n",
      "The length of y_test is 699\n"
     ]
    }
   ],
   "source": [
    "# confirm the shape and type of our data is right\n",
    "print('The shape of the first item of X_train is', X_train.iloc[0,0].shape)\n",
    "print('The length of X_train is', len(X_train))\n",
    "\n",
    "print('The shape of the first item of X_val is', X_val.iloc[0,0].shape)\n",
    "print('The length of X_val is', len(X_val))\n",
    "\n",
    "print('The shape of the first item of X_test is', X_test.iloc[0,0].shape)\n",
    "print('The length of X_test is', len(X_test))\n",
    "\n",
    "print('The type and value of the first item of y_train is', type(y_train.iloc[0,0]), y_train.iloc[0,0])\n",
    "print('The length of y_train is', len(y_train))\n",
    "\n",
    "print('The shape of the first item of y_val is', type(y_val.iloc[0,0]), y_val.iloc[0,0])\n",
    "print('The length of y_val is', len(y_val))\n",
    "\n",
    "print('The type and value of the first item of y_test is', type(y_test.iloc[0,0]), y_test.iloc[0,0])\n",
    "print('The length of y_test is', len(y_test))"
   ]
  },
  {
   "cell_type": "code",
   "execution_count": 68,
   "metadata": {},
   "outputs": [
    {
     "name": "stdout",
     "output_type": "stream",
     "text": [
      "X data sets equality is: True\n",
      "y data sets equality is: True\n"
     ]
    }
   ],
   "source": [
    "# A small check of total data amount before training the model\n",
    "check_X = (len(X_train) + len(X_val) + len(X_test)) == len(map_data)\n",
    "check_y = (len(y_train) + len(y_val) + len(y_test)) == len(map_data)\n",
    "\n",
    "print('X data sets equality is:', check_X)\n",
    "print('y data sets equality is:', check_y)"
   ]
  },
  {
   "cell_type": "markdown",
   "metadata": {},
   "source": [
    "## 4. One-hot encoding and normalizing our input data"
   ]
  },
  {
   "cell_type": "code",
   "execution_count": 80,
   "metadata": {},
   "outputs": [],
   "source": [
    "# Create combined lists for training and test sets,\n",
    "# so that we can do normalization and encoding in one function on both data sets.\n",
    "# Note that 'combine' is only a pointer,\n",
    "# so when we change something on data sets in combine,\n",
    "# the original data sets will also change.\n",
    "\n",
    "combine_X = [X_train, X_val, X_test]\n",
    "combine_y = [y_train, y_val, y_test]"
   ]
  },
  {
   "cell_type": "code",
   "execution_count": 81,
   "metadata": {
    "scrolled": true
   },
   "outputs": [
    {
     "data": {
      "text/html": [
       "<div>\n",
       "<style scoped>\n",
       "    .dataframe tbody tr th:only-of-type {\n",
       "        vertical-align: middle;\n",
       "    }\n",
       "\n",
       "    .dataframe tbody tr th {\n",
       "        vertical-align: top;\n",
       "    }\n",
       "\n",
       "    .dataframe thead th {\n",
       "        text-align: right;\n",
       "    }\n",
       "</style>\n",
       "<table border=\"1\" class=\"dataframe\">\n",
       "  <thead>\n",
       "    <tr style=\"text-align: right;\">\n",
       "      <th></th>\n",
       "      <th>label</th>\n",
       "    </tr>\n",
       "  </thead>\n",
       "  <tbody>\n",
       "    <tr>\n",
       "      <th>2861</th>\n",
       "      <td>0</td>\n",
       "    </tr>\n",
       "    <tr>\n",
       "      <th>761</th>\n",
       "      <td>4</td>\n",
       "    </tr>\n",
       "    <tr>\n",
       "      <th>2987</th>\n",
       "      <td>0</td>\n",
       "    </tr>\n",
       "    <tr>\n",
       "      <th>2236</th>\n",
       "      <td>1</td>\n",
       "    </tr>\n",
       "    <tr>\n",
       "      <th>2598</th>\n",
       "      <td>2</td>\n",
       "    </tr>\n",
       "    <tr>\n",
       "      <th>1046</th>\n",
       "      <td>3</td>\n",
       "    </tr>\n",
       "    <tr>\n",
       "      <th>2368</th>\n",
       "      <td>3</td>\n",
       "    </tr>\n",
       "    <tr>\n",
       "      <th>1201</th>\n",
       "      <td>3</td>\n",
       "    </tr>\n",
       "    <tr>\n",
       "      <th>401</th>\n",
       "      <td>1</td>\n",
       "    </tr>\n",
       "    <tr>\n",
       "      <th>2169</th>\n",
       "      <td>2</td>\n",
       "    </tr>\n",
       "    <tr>\n",
       "      <th>1841</th>\n",
       "      <td>2</td>\n",
       "    </tr>\n",
       "    <tr>\n",
       "      <th>2268</th>\n",
       "      <td>4</td>\n",
       "    </tr>\n",
       "    <tr>\n",
       "      <th>734</th>\n",
       "      <td>4</td>\n",
       "    </tr>\n",
       "    <tr>\n",
       "      <th>671</th>\n",
       "      <td>3</td>\n",
       "    </tr>\n",
       "    <tr>\n",
       "      <th>358</th>\n",
       "      <td>0</td>\n",
       "    </tr>\n",
       "    <tr>\n",
       "      <th>1619</th>\n",
       "      <td>0</td>\n",
       "    </tr>\n",
       "    <tr>\n",
       "      <th>3209</th>\n",
       "      <td>4</td>\n",
       "    </tr>\n",
       "    <tr>\n",
       "      <th>130</th>\n",
       "      <td>4</td>\n",
       "    </tr>\n",
       "    <tr>\n",
       "      <th>1718</th>\n",
       "      <td>1</td>\n",
       "    </tr>\n",
       "    <tr>\n",
       "      <th>3255</th>\n",
       "      <td>3</td>\n",
       "    </tr>\n",
       "    <tr>\n",
       "      <th>2684</th>\n",
       "      <td>0</td>\n",
       "    </tr>\n",
       "    <tr>\n",
       "      <th>3071</th>\n",
       "      <td>2</td>\n",
       "    </tr>\n",
       "    <tr>\n",
       "      <th>1058</th>\n",
       "      <td>4</td>\n",
       "    </tr>\n",
       "    <tr>\n",
       "      <th>577</th>\n",
       "      <td>4</td>\n",
       "    </tr>\n",
       "    <tr>\n",
       "      <th>3360</th>\n",
       "      <td>0</td>\n",
       "    </tr>\n",
       "    <tr>\n",
       "      <th>1728</th>\n",
       "      <td>2</td>\n",
       "    </tr>\n",
       "    <tr>\n",
       "      <th>2419</th>\n",
       "      <td>1</td>\n",
       "    </tr>\n",
       "    <tr>\n",
       "      <th>139</th>\n",
       "      <td>1</td>\n",
       "    </tr>\n",
       "    <tr>\n",
       "      <th>2707</th>\n",
       "      <td>0</td>\n",
       "    </tr>\n",
       "    <tr>\n",
       "      <th>3291</th>\n",
       "      <td>3</td>\n",
       "    </tr>\n",
       "    <tr>\n",
       "      <th>...</th>\n",
       "      <td>...</td>\n",
       "    </tr>\n",
       "    <tr>\n",
       "      <th>537</th>\n",
       "      <td>1</td>\n",
       "    </tr>\n",
       "    <tr>\n",
       "      <th>2413</th>\n",
       "      <td>2</td>\n",
       "    </tr>\n",
       "    <tr>\n",
       "      <th>3310</th>\n",
       "      <td>3</td>\n",
       "    </tr>\n",
       "    <tr>\n",
       "      <th>1792</th>\n",
       "      <td>3</td>\n",
       "    </tr>\n",
       "    <tr>\n",
       "      <th>3020</th>\n",
       "      <td>2</td>\n",
       "    </tr>\n",
       "    <tr>\n",
       "      <th>1546</th>\n",
       "      <td>2</td>\n",
       "    </tr>\n",
       "    <tr>\n",
       "      <th>949</th>\n",
       "      <td>1</td>\n",
       "    </tr>\n",
       "    <tr>\n",
       "      <th>3217</th>\n",
       "      <td>2</td>\n",
       "    </tr>\n",
       "    <tr>\n",
       "      <th>321</th>\n",
       "      <td>3</td>\n",
       "    </tr>\n",
       "    <tr>\n",
       "      <th>3309</th>\n",
       "      <td>3</td>\n",
       "    </tr>\n",
       "    <tr>\n",
       "      <th>1194</th>\n",
       "      <td>4</td>\n",
       "    </tr>\n",
       "    <tr>\n",
       "      <th>2449</th>\n",
       "      <td>4</td>\n",
       "    </tr>\n",
       "    <tr>\n",
       "      <th>510</th>\n",
       "      <td>4</td>\n",
       "    </tr>\n",
       "    <tr>\n",
       "      <th>404</th>\n",
       "      <td>4</td>\n",
       "    </tr>\n",
       "    <tr>\n",
       "      <th>2006</th>\n",
       "      <td>1</td>\n",
       "    </tr>\n",
       "    <tr>\n",
       "      <th>749</th>\n",
       "      <td>2</td>\n",
       "    </tr>\n",
       "    <tr>\n",
       "      <th>803</th>\n",
       "      <td>4</td>\n",
       "    </tr>\n",
       "    <tr>\n",
       "      <th>3479</th>\n",
       "      <td>3</td>\n",
       "    </tr>\n",
       "    <tr>\n",
       "      <th>2642</th>\n",
       "      <td>1</td>\n",
       "    </tr>\n",
       "    <tr>\n",
       "      <th>1966</th>\n",
       "      <td>3</td>\n",
       "    </tr>\n",
       "    <tr>\n",
       "      <th>397</th>\n",
       "      <td>1</td>\n",
       "    </tr>\n",
       "    <tr>\n",
       "      <th>1821</th>\n",
       "      <td>2</td>\n",
       "    </tr>\n",
       "    <tr>\n",
       "      <th>2841</th>\n",
       "      <td>0</td>\n",
       "    </tr>\n",
       "    <tr>\n",
       "      <th>1515</th>\n",
       "      <td>1</td>\n",
       "    </tr>\n",
       "    <tr>\n",
       "      <th>2872</th>\n",
       "      <td>0</td>\n",
       "    </tr>\n",
       "    <tr>\n",
       "      <th>2000</th>\n",
       "      <td>0</td>\n",
       "    </tr>\n",
       "    <tr>\n",
       "      <th>2342</th>\n",
       "      <td>0</td>\n",
       "    </tr>\n",
       "    <tr>\n",
       "      <th>3453</th>\n",
       "      <td>1</td>\n",
       "    </tr>\n",
       "    <tr>\n",
       "      <th>3091</th>\n",
       "      <td>0</td>\n",
       "    </tr>\n",
       "    <tr>\n",
       "      <th>1956</th>\n",
       "      <td>2</td>\n",
       "    </tr>\n",
       "  </tbody>\n",
       "</table>\n",
       "<p>2235 rows × 1 columns</p>\n",
       "</div>"
      ],
      "text/plain": [
       "      label\n",
       "2861      0\n",
       "761       4\n",
       "2987      0\n",
       "2236      1\n",
       "2598      2\n",
       "1046      3\n",
       "2368      3\n",
       "1201      3\n",
       "401       1\n",
       "2169      2\n",
       "1841      2\n",
       "2268      4\n",
       "734       4\n",
       "671       3\n",
       "358       0\n",
       "1619      0\n",
       "3209      4\n",
       "130       4\n",
       "1718      1\n",
       "3255      3\n",
       "2684      0\n",
       "3071      2\n",
       "1058      4\n",
       "577       4\n",
       "3360      0\n",
       "1728      2\n",
       "2419      1\n",
       "139       1\n",
       "2707      0\n",
       "3291      3\n",
       "...     ...\n",
       "537       1\n",
       "2413      2\n",
       "3310      3\n",
       "1792      3\n",
       "3020      2\n",
       "1546      2\n",
       "949       1\n",
       "3217      2\n",
       "321       3\n",
       "3309      3\n",
       "1194      4\n",
       "2449      4\n",
       "510       4\n",
       "404       4\n",
       "2006      1\n",
       "749       2\n",
       "803       4\n",
       "3479      3\n",
       "2642      1\n",
       "1966      3\n",
       "397       1\n",
       "1821      2\n",
       "2841      0\n",
       "1515      1\n",
       "2872      0\n",
       "2000      0\n",
       "2342      0\n",
       "3453      1\n",
       "3091      0\n",
       "1956      2\n",
       "\n",
       "[2235 rows x 1 columns]"
      ]
     },
     "execution_count": 81,
     "metadata": {},
     "output_type": "execute_result"
    }
   ],
   "source": [
    "combine_y[0]"
   ]
  },
  {
   "cell_type": "code",
   "execution_count": 82,
   "metadata": {},
   "outputs": [],
   "source": [
    "combine_y = [np.array(y_train['label']), np.array(y_val['label']), np.array(y_test['label'])]"
   ]
  },
  {
   "cell_type": "code",
   "execution_count": 83,
   "metadata": {},
   "outputs": [
    {
     "data": {
      "text/plain": [
       "[array([0, 4, 0, ..., 1, 0, 2], dtype=int64),\n",
       " array([4, 2, 4, 1, 2, 4, 0, 3, 0, 1, 0, 3, 4, 3, 1, 3, 4, 2, 0, 1, 3, 4,\n",
       "        1, 0, 3, 1, 4, 3, 2, 3, 3, 1, 0, 2, 1, 0, 0, 4, 4, 1, 4, 2, 0, 1,\n",
       "        1, 1, 3, 4, 2, 3, 2, 0, 2, 0, 1, 3, 0, 3, 0, 4, 1, 0, 2, 3, 0, 3,\n",
       "        1, 3, 3, 1, 4, 1, 4, 4, 1, 1, 3, 4, 1, 4, 2, 2, 4, 0, 0, 1, 4, 3,\n",
       "        2, 1, 2, 4, 1, 4, 2, 4, 1, 3, 0, 0, 1, 3, 1, 4, 0, 0, 2, 2, 3, 2,\n",
       "        4, 3, 4, 0, 3, 1, 3, 0, 2, 0, 4, 2, 0, 1, 1, 1, 0, 2, 1, 4, 1, 3,\n",
       "        2, 1, 3, 2, 2, 0, 3, 2, 4, 3, 0, 2, 3, 4, 0, 0, 3, 1, 0, 3, 0, 1,\n",
       "        4, 2, 2, 4, 3, 0, 1, 2, 4, 2, 3, 1, 4, 2, 2, 3, 0, 1, 3, 4, 3, 4,\n",
       "        0, 1, 3, 0, 3, 1, 4, 1, 2, 1, 4, 2, 1, 1, 2, 0, 4, 2, 2, 3, 0, 3,\n",
       "        1, 4, 3, 4, 4, 3, 0, 0, 0, 1, 1, 4, 1, 1, 1, 2, 3, 4, 1, 2, 2, 2,\n",
       "        3, 1, 2, 2, 4, 0, 2, 1, 3, 4, 4, 3, 4, 0, 0, 1, 0, 1, 1, 4, 1, 2,\n",
       "        1, 0, 1, 1, 4, 3, 1, 2, 4, 2, 2, 2, 0, 2, 3, 3, 4, 3, 1, 1, 2, 4,\n",
       "        1, 2, 0, 4, 0, 3, 0, 4, 4, 4, 2, 4, 4, 2, 0, 4, 0, 2, 0, 3, 2, 3,\n",
       "        1, 1, 2, 4, 4, 0, 1, 3, 3, 2, 2, 1, 4, 4, 1, 2, 3, 2, 1, 0, 3, 1,\n",
       "        0, 3, 1, 2, 2, 1, 4, 4, 2, 0, 0, 3, 4, 2, 0, 4, 1, 3, 3, 1, 2, 4,\n",
       "        3, 2, 2, 2, 3, 2, 4, 3, 4, 4, 4, 4, 0, 0, 0, 0, 4, 1, 1, 0, 1, 3,\n",
       "        3, 0, 4, 1, 1, 0, 3, 0, 3, 1, 2, 0, 2, 4, 3, 4, 3, 3, 0, 2, 1, 3,\n",
       "        4, 1, 3, 4, 4, 0, 4, 1, 2, 1, 1, 3, 4, 0, 4, 4, 0, 3, 3, 1, 0, 3,\n",
       "        0, 3, 2, 4, 3, 1, 2, 2, 3, 0, 0, 2, 1, 3, 2, 4, 4, 1, 0, 2, 0, 0,\n",
       "        0, 1, 2, 2, 1, 2, 4, 4, 3, 3, 4, 0, 0, 3, 4, 3, 1, 1, 2, 0, 4, 1,\n",
       "        4, 1, 2, 1, 2, 4, 4, 4, 4, 4, 3, 0, 4, 2, 0, 3, 4, 4, 2, 4, 2, 2,\n",
       "        3, 3, 3, 0, 1, 2, 0, 3, 2, 4, 2, 4, 0, 1, 0, 0, 0, 2, 3, 2, 0, 3,\n",
       "        4, 4, 2, 0, 1, 4, 3, 1, 2, 2, 3, 4, 4, 3, 1, 1, 3, 0, 4, 1, 0, 4,\n",
       "        3, 3, 0, 1, 1, 2, 2, 3, 3, 4, 3, 2, 0, 3, 0, 2, 4, 3, 4, 2, 3, 3,\n",
       "        4, 1, 0, 2, 1, 3, 1, 0, 0, 2, 4, 3, 2, 2, 0, 0, 1, 1, 0, 2, 2, 1,\n",
       "        0, 1, 3, 0, 0, 4, 1, 1, 4], dtype=int64),\n",
       " array([1, 2, 3, 4, 0, 3, 3, 0, 1, 1, 2, 4, 4, 4, 2, 4, 4, 3, 1, 4, 2, 0,\n",
       "        2, 4, 2, 4, 3, 0, 3, 3, 2, 0, 2, 0, 0, 3, 4, 3, 3, 1, 2, 0, 3, 1,\n",
       "        1, 4, 2, 3, 4, 4, 1, 1, 2, 3, 0, 4, 0, 0, 1, 3, 4, 3, 1, 2, 4, 3,\n",
       "        3, 2, 4, 1, 1, 3, 0, 1, 1, 2, 1, 4, 2, 2, 2, 0, 2, 1, 0, 4, 4, 1,\n",
       "        3, 3, 1, 2, 4, 0, 0, 1, 4, 0, 0, 1, 1, 3, 0, 3, 4, 1, 1, 0, 3, 0,\n",
       "        1, 3, 4, 4, 0, 2, 4, 0, 2, 3, 1, 2, 0, 2, 2, 0, 3, 4, 3, 4, 2, 4,\n",
       "        1, 1, 0, 2, 3, 2, 0, 1, 2, 1, 4, 4, 4, 1, 1, 2, 3, 4, 2, 0, 0, 0,\n",
       "        0, 3, 1, 3, 3, 0, 0, 3, 1, 0, 2, 3, 2, 4, 3, 4, 3, 3, 2, 2, 4, 2,\n",
       "        0, 3, 3, 0, 1, 3, 1, 1, 3, 0, 1, 0, 4, 4, 3, 3, 3, 3, 3, 4, 4, 4,\n",
       "        2, 2, 4, 4, 0, 0, 1, 0, 4, 1, 4, 2, 0, 1, 3, 1, 3, 4, 4, 1, 1, 1,\n",
       "        2, 1, 3, 2, 4, 4, 2, 3, 0, 4, 2, 2, 3, 0, 1, 3, 0, 4, 1, 3, 2, 3,\n",
       "        4, 2, 1, 3, 4, 2, 4, 3, 2, 1, 0, 4, 0, 0, 1, 3, 4, 0, 3, 1, 4, 0,\n",
       "        3, 3, 0, 2, 0, 4, 4, 0, 4, 3, 0, 3, 4, 0, 1, 1, 1, 1, 3, 1, 4, 0,\n",
       "        0, 2, 4, 3, 2, 3, 1, 4, 0, 0, 4, 3, 3, 4, 1, 1, 1, 3, 2, 3, 4, 1,\n",
       "        1, 1, 1, 2, 2, 3, 4, 3, 1, 1, 4, 0, 1, 3, 1, 4, 3, 0, 1, 4, 1, 0,\n",
       "        3, 2, 2, 2, 0, 2, 2, 2, 1, 3, 1, 0, 0, 0, 0, 3, 2, 1, 1, 0, 2, 4,\n",
       "        3, 1, 1, 4, 2, 4, 4, 0, 1, 0, 2, 0, 3, 0, 1, 3, 1, 3, 4, 2, 1, 1,\n",
       "        0, 2, 0, 4, 3, 0, 0, 4, 3, 0, 3, 2, 2, 4, 3, 1, 0, 2, 1, 1, 2, 1,\n",
       "        4, 0, 0, 1, 4, 3, 1, 4, 0, 4, 3, 4, 1, 3, 0, 4, 1, 3, 1, 1, 1, 1,\n",
       "        2, 0, 1, 0, 1, 4, 4, 4, 0, 3, 0, 3, 3, 0, 4, 3, 1, 2, 2, 2, 2, 1,\n",
       "        3, 4, 3, 1, 0, 4, 0, 3, 1, 1, 3, 2, 0, 3, 3, 0, 1, 0, 4, 1, 0, 4,\n",
       "        0, 4, 0, 2, 0, 2, 3, 0, 1, 2, 2, 3, 0, 2, 4, 4, 3, 1, 3, 1, 1, 0,\n",
       "        0, 1, 0, 2, 1, 2, 2, 4, 0, 1, 2, 2, 2, 3, 4, 1, 3, 0, 3, 1, 4, 4,\n",
       "        1, 4, 2, 1, 3, 2, 3, 2, 1, 2, 2, 4, 4, 2, 4, 3, 1, 2, 2, 0, 0, 3,\n",
       "        4, 1, 0, 4, 4, 2, 4, 1, 2, 0, 2, 3, 4, 1, 3, 3, 3, 3, 2, 4, 2, 0,\n",
       "        2, 4, 0, 0, 2, 1, 4, 0, 4, 0, 3, 0, 3, 4, 4, 2, 0, 4, 1, 1, 0, 3,\n",
       "        0, 4, 2, 4, 1, 1, 4, 2, 1, 2, 4, 1, 0, 4, 3, 0, 3, 4, 2, 4, 4, 0,\n",
       "        0, 1, 4, 2, 2, 1, 2, 0, 1, 4, 0, 2, 1, 3, 3, 0, 1, 2, 0, 3, 2, 3,\n",
       "        2, 4, 4, 2, 0, 3, 0, 0, 3, 0, 3, 0, 3, 1, 2, 4, 2, 4, 1, 3, 4, 0,\n",
       "        0, 4, 0, 2, 4, 2, 1, 1, 4, 3, 1, 0, 0, 4, 2, 1, 4, 0, 2, 4, 1, 2,\n",
       "        3, 4, 1, 0, 2, 2, 4, 0, 4, 4, 4, 4, 1, 1, 1, 0, 4, 2, 1, 1, 4, 0,\n",
       "        4, 3, 2, 1, 4, 2, 3, 2, 1, 4, 4, 3, 3, 4, 0, 2, 1], dtype=int64)]"
      ]
     },
     "execution_count": 83,
     "metadata": {},
     "output_type": "execute_result"
    }
   ],
   "source": [
    "combine_y"
   ]
  },
  {
   "cell_type": "code",
   "execution_count": null,
   "metadata": {},
   "outputs": [],
   "source": [
    "# normalize inputs from 0-255 to 0.0-1.0\n",
    "for df in combine_X:\n",
    "    df = df / 255.0"
   ]
  },
  {
   "cell_type": "code",
   "execution_count": null,
   "metadata": {},
   "outputs": [],
   "source": [
    "# check the value of normalized data\n",
    "print('The shape and value of X data after normalization:', df.iloc[0,0].shape, '\\n', df.iloc[0,0][0])"
   ]
  },
  {
   "cell_type": "code",
   "execution_count": null,
   "metadata": {},
   "outputs": [],
   "source": [
    "#### from sklearn.preprocessing imposrt LabelEncoder, OneHotEncoder"
   ]
  },
  {
   "cell_type": "code",
   "execution_count": 84,
   "metadata": {},
   "outputs": [],
   "source": [
    "#### one hot encoding our categorical data\n",
    "#labelencoder_y = LabelEncoder()\n",
    "#enc = OneHotEncoder()\n",
    "for df in combine_y:\n",
    "    df = np_utils.to_categorical(df)\n",
    "    #df.iloc[:,0] = labelencoder_y.fit_transform(df.iloc[:,0])\n",
    "    #df = enc.fit(np.array(df).reshape(-1,1))"
   ]
  },
  {
   "cell_type": "code",
   "execution_count": 89,
   "metadata": {},
   "outputs": [],
   "source": [
    "combine_y_0 = np_utils.to_categorical(combine_y[0])\n",
    "combine_y[0] = combine_y_0\n",
    "combine_y[1] = np_utils.to_categorical(combine_y[1])\n",
    "combine_y[2] = np_utils.to_categorical(combine_y[2])"
   ]
  },
  {
   "cell_type": "code",
   "execution_count": 90,
   "metadata": {},
   "outputs": [
    {
     "data": {
      "text/plain": [
       "numpy.int64"
      ]
     },
     "execution_count": 90,
     "metadata": {},
     "output_type": "execute_result"
    }
   ],
   "source": [
    "# Check the type of y after one-hot encoding\n",
    "type(y_train.iloc[0,0])"
   ]
  },
  {
   "cell_type": "code",
   "execution_count": 102,
   "metadata": {},
   "outputs": [],
   "source": [
    "y_train = combine_y[0]"
   ]
  },
  {
   "cell_type": "code",
   "execution_count": 103,
   "metadata": {},
   "outputs": [
    {
     "data": {
      "text/plain": [
       "numpy.ndarray"
      ]
     },
     "execution_count": 103,
     "metadata": {},
     "output_type": "execute_result"
    }
   ],
   "source": [
    "type(y_train)"
   ]
  },
  {
   "cell_type": "markdown",
   "metadata": {},
   "source": [
    "## 5. Model Training"
   ]
  },
  {
   "cell_type": "markdown",
   "metadata": {},
   "source": [
    "The function below is adapted from: \n",
    "http://machinelearningmastery.com/object-recognition-convolutional-neural-networks-keras-deep-learning-library/"
   ]
  },
  {
   "cell_type": "code",
   "execution_count": 100,
   "metadata": {
    "scrolled": true
   },
   "outputs": [
    {
     "name": "stdout",
     "output_type": "stream",
     "text": [
      "_________________________________________________________________\n",
      "Layer (type)                 Output Shape              Param #   \n",
      "=================================================================\n",
      "conv2d_3 (Conv2D)            (None, 640, 640, 32)      896       \n",
      "_________________________________________________________________\n",
      "dropout_3 (Dropout)          (None, 640, 640, 32)      0         \n",
      "_________________________________________________________________\n",
      "conv2d_4 (Conv2D)            (None, 640, 640, 32)      9248      \n",
      "_________________________________________________________________\n",
      "max_pooling2d_2 (MaxPooling2 (None, 320, 320, 32)      0         \n",
      "_________________________________________________________________\n",
      "flatten_2 (Flatten)          (None, 3276800)           0         \n",
      "_________________________________________________________________\n",
      "dense_3 (Dense)              (None, 512)               1677722112\n",
      "_________________________________________________________________\n",
      "dropout_4 (Dropout)          (None, 512)               0         \n",
      "_________________________________________________________________\n",
      "dense_4 (Dense)              (None, 5)                 2565      \n",
      "=================================================================\n",
      "Total params: 1,677,734,821\n",
      "Trainable params: 1,677,734,821\n",
      "Non-trainable params: 0\n",
      "_________________________________________________________________\n",
      "None\n",
      "CNN Model created.\n"
     ]
    }
   ],
   "source": [
    "# First type of CNN model\n",
    "input_size=(640,640,3)\n",
    "num_classes=5\n",
    "\n",
    "def createCNNModel(num_classes):\n",
    "\n",
    "    # Create the model\n",
    "    model = Sequential()\n",
    "    model.add(Convolution2D(32, 3, 3, input_shape=input_size, border_mode='same', activation='relu'))\n",
    "    model.add(Dropout(0.2))\n",
    "    model.add(Convolution2D(32, 3, 3, activation='relu', border_mode='same'))\n",
    "    model.add(MaxPooling2D(pool_size=(2, 2)))\n",
    "    model.add(Flatten())\n",
    "    model.add(Dense(512, activation='relu'))\n",
    "    model.add(Dropout(0.5))\n",
    "    model.add(Dense(num_classes, activation='softmax'))\n",
    "    \n",
    "    # Compile model\n",
    "    epochs = 3  # >>> should be 25+\n",
    "    lrate = 0.01\n",
    "    decay = lrate/epochs\n",
    "    sgd = SGD(lr=lrate, momentum=0.9, decay=decay, nesterov=False)\n",
    "    model.compile(loss='categorical_crossentropy', optimizer=sgd, metrics=['accuracy'])\n",
    "    print(model.summary())\n",
    "    return model, epochs\n",
    "\n",
    "# create our CNN model\n",
    "model, epochs = createCNNModel(num_classes)\n",
    "print(\"CNN Model created.\")"
   ]
  },
  {
   "cell_type": "markdown",
   "metadata": {},
   "source": [
    "The function below is adapted from: \n",
    "http://machinelearningmastery.com/object-recognition-convolutional-neural-networks-keras-deep-learning-library/"
   ]
  },
  {
   "cell_type": "code",
   "execution_count": null,
   "metadata": {},
   "outputs": [],
   "source": [
    "'''# Another type of CNN model\n",
    "input_size=(640,640,3)\n",
    "num_classes=6\n",
    "\n",
    "def createCNNModel(num_classes):\n",
    "\n",
    "    # Create the model\n",
    "    model = Sequential()\n",
    "    model.add(Convolution2D(32, 3, 3, input_shape=input_size, border_mode='same', activation='relu'))\n",
    "    model.add(Dropout(0.2))\n",
    "    model.add(MaxPooling2D(pool_size=(2, 2)))\n",
    "    model.add(Flatten())\n",
    "    model.add(Dense(num_classes, activation='softmax'))\n",
    "\n",
    "    # Compile model\n",
    "    epochs = 3  # >>> should be 25+\n",
    "    lrate = 0.01\n",
    "    decay = lrate/epochs\n",
    "    sgd = SGD(lr=lrate, momentum=0.9, decay=decay, nesterov=False)\n",
    "    model.compile(loss='categorical_crossentropy', optimizer=sgd, metrics=['accuracy'])\n",
    "    print(model.summary())\n",
    "    return model, epochs\n",
    "\n",
    "# create our CNN model\n",
    "model, epochs = createCNNModel(num_classes)\n",
    "print(\"CNN Model created.\")'''"
   ]
  },
  {
   "cell_type": "code",
   "execution_count": 95,
   "metadata": {},
   "outputs": [
    {
     "data": {
      "text/plain": [
       "(2235, 1)"
      ]
     },
     "execution_count": 95,
     "metadata": {},
     "output_type": "execute_result"
    }
   ],
   "source": [
    "X_train.shape"
   ]
  },
  {
   "cell_type": "code",
   "execution_count": 96,
   "metadata": {},
   "outputs": [],
   "source": [
    "X_image_list = X_train['image'].tolist()"
   ]
  },
  {
   "cell_type": "code",
   "execution_count": 104,
   "metadata": {},
   "outputs": [],
   "source": [
    "X_train_array = np.array(X_image_list)\n",
    "y_train_array = np.array(y_train)"
   ]
  },
  {
   "cell_type": "code",
   "execution_count": 105,
   "metadata": {},
   "outputs": [
    {
     "data": {
      "text/plain": [
       "array([[1., 0., 0., 0., 0.],\n",
       "       [0., 0., 0., 0., 1.],\n",
       "       [1., 0., 0., 0., 0.],\n",
       "       ...,\n",
       "       [0., 1., 0., 0., 0.],\n",
       "       [1., 0., 0., 0., 0.],\n",
       "       [0., 0., 1., 0., 0.]], dtype=float32)"
      ]
     },
     "execution_count": 105,
     "metadata": {},
     "output_type": "execute_result"
    }
   ],
   "source": [
    "y_train_array"
   ]
  },
  {
   "cell_type": "code",
   "execution_count": null,
   "metadata": {},
   "outputs": [
    {
     "name": "stdout",
     "output_type": "stream",
     "text": [
      "Epoch 1/3\n"
     ]
    }
   ],
   "source": [
    "#batch size，learning rate can be modified before training\n",
    "\n",
    "batch_size=60\n",
    "seed = 7\n",
    "np.random.seed(seed)\n",
    "model.fit(X_train_array, y_train_array, batch_size = batch_size, nb_epoch = epochs)\n",
    "#model.fit(X_train, y_train, validation_data=(X_test, y_test), nb_epoch=epochs, batch_size=60)"
   ]
  },
  {
   "cell_type": "code",
   "execution_count": null,
   "metadata": {},
   "outputs": [],
   "source": [
    "# Final evaluation of the model\n",
    "scores = model.evaluate(X_test, y_test, verbose=0)\n",
    "print(\"Accuracy: %.2f%%\" % (scores[1]*100))\n",
    "\n",
    "print(\"done\")"
   ]
  },
  {
   "cell_type": "code",
   "execution_count": null,
   "metadata": {},
   "outputs": [],
   "source": [
    "y_pred=model.predict(X_test)\n",
    "print(\"y_pred is \",y_pred)"
   ]
  },
  {
   "cell_type": "code",
   "execution_count": null,
   "metadata": {},
   "outputs": [],
   "source": [
    "y_test"
   ]
  },
  {
   "cell_type": "code",
   "execution_count": null,
   "metadata": {},
   "outputs": [],
   "source": [
    "##store the weights\n",
    "for layer in model.layers:\n",
    "    weights = layer.get_weights() "
   ]
  },
  {
   "cell_type": "code",
   "execution_count": null,
   "metadata": {},
   "outputs": [],
   "source": [
    "weights"
   ]
  },
  {
   "cell_type": "code",
   "execution_count": null,
   "metadata": {},
   "outputs": [],
   "source": [
    "len(weights)"
   ]
  },
  {
   "cell_type": "code",
   "execution_count": null,
   "metadata": {},
   "outputs": [],
   "source": [
    "## store the model\n",
    "model.save('cnn_trial.h5')"
   ]
  },
  {
   "cell_type": "code",
   "execution_count": null,
   "metadata": {},
   "outputs": [],
   "source": [
    "###read the stored the model\n",
    "import h5py\n",
    "\n",
    "def print_keras_wegiths(weight_file_path):\n",
    "    f = h5py.File(weight_file_path)  # 读取weights h5文件返回File类\n",
    "    try:\n",
    "        if len(f.attrs.items()):\n",
    "            print(\"{} contains: \".format(weight_file_path))\n",
    "            print(\"Root attributes:\")\n",
    "        for key, value in f.attrs.items():\n",
    "            print(\"  {}: {}\".format(key, value))  # 输出储存在File类中的attrs信息，一般是各层的名称\n",
    "\n",
    "        for layer, g in f.items():  # 读取各层的名称以及包含层信息的Group类\n",
    "            print(\"  {}\".format(layer))\n",
    "            print(\"    Attributes:\")\n",
    "            for key, value in g.attrs.items(): # 输出储存在Group类中的attrs信息，一般是各层的weights和bias及他们的名称\n",
    "                print(\"      {}: {}\".format(key, value))  \n",
    "\n",
    "            print(\"    Dataset:\")\n",
    "            for name, d in g.items(): # 读取各层储存具体信息的Dataset类\n",
    "                print(\"      {}: {}\".format(name, d.value.shape)) # 输出储存在Dataset中的层名称和权重，也可以打印dataset的attrs，但是keras中是空的\n",
    "                print(\"      {}: {}\".format(name. d.value))\n",
    "    finally:\n",
    "        f.close()"
   ]
  }
 ],
 "metadata": {
  "kernelspec": {
   "display_name": "Python 3",
   "language": "python",
   "name": "python3"
  },
  "language_info": {
   "codemirror_mode": {
    "name": "ipython",
    "version": 3
   },
   "file_extension": ".py",
   "mimetype": "text/x-python",
   "name": "python",
   "nbconvert_exporter": "python",
   "pygments_lexer": "ipython3",
   "version": "3.6.4"
  }
 },
 "nbformat": 4,
 "nbformat_minor": 2
}
