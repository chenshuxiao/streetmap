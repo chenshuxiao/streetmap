{
 "cells": [
  {
   "cell_type": "code",
   "execution_count": 1,
   "metadata": {},
   "outputs": [],
   "source": [
    "import matplotlib.pyplot as plt\n",
    "import numpy as np\n",
    "import pandas as pd\n",
    "import warnings\n",
    "warnings.filterwarnings('ignore') # Filter out warnings\n",
    "\n",
    "import xml.etree.ElementTree as ET"
   ]
  },
  {
   "cell_type": "code",
   "execution_count": 2,
   "metadata": {},
   "outputs": [],
   "source": [
    "nypd = pd.read_csv(\"nypd.csv\")\n",
    "\n",
    "# constraint nypd data to manhattan\n",
    "nypd = nypd[nypd['BOROUGH']=='MANHATTAN']\n",
    "nypd = nypd[['LATITUDE','LONGITUDE']]"
   ]
  },
  {
   "cell_type": "code",
   "execution_count": 3,
   "metadata": {},
   "outputs": [
    {
     "data": {
      "text/plain": [
       "((40.61596, 40.9046), (-74.11955, -73.736305))"
      ]
     },
     "execution_count": 3,
     "metadata": {},
     "output_type": "execute_result"
    }
   ],
   "source": [
    "## delete all rows with 0 values\n",
    "nypd = nypd.loc[nypd.ne(0).all(axis=1)]\n",
    "nypd = nypd.dropna()\n",
    "\n",
    "latitude_high = nypd['LATITUDE'].max()\n",
    "latitude_low = nypd['LATITUDE'].min()\n",
    "longitude_high = nypd['LONGITUDE'].max()\n",
    "longitude_low = nypd['LONGITUDE'].min()\n",
    "\n",
    "(latitude_low, latitude_high), (longitude_low, longitude_high)"
   ]
  },
  {
   "cell_type": "code",
   "execution_count": 4,
   "metadata": {},
   "outputs": [
    {
     "data": {
      "text/html": [
       "<div>\n",
       "<style scoped>\n",
       "    .dataframe tbody tr th:only-of-type {\n",
       "        vertical-align: middle;\n",
       "    }\n",
       "\n",
       "    .dataframe tbody tr th {\n",
       "        vertical-align: top;\n",
       "    }\n",
       "\n",
       "    .dataframe thead th {\n",
       "        text-align: right;\n",
       "    }\n",
       "</style>\n",
       "<table border=\"1\" class=\"dataframe\">\n",
       "  <thead>\n",
       "    <tr style=\"text-align: right;\">\n",
       "      <th></th>\n",
       "      <th>LATITUDE</th>\n",
       "      <th>LONGITUDE</th>\n",
       "      <th>latti_range</th>\n",
       "      <th>longi_range</th>\n",
       "    </tr>\n",
       "  </thead>\n",
       "  <tbody>\n",
       "    <tr>\n",
       "      <th>2</th>\n",
       "      <td>40.826412</td>\n",
       "      <td>-73.940600</td>\n",
       "      <td>(40.818, 40.847]</td>\n",
       "      <td>(-73.966, -73.928]</td>\n",
       "    </tr>\n",
       "    <tr>\n",
       "      <th>9</th>\n",
       "      <td>40.711746</td>\n",
       "      <td>-74.006996</td>\n",
       "      <td>(40.703, 40.731]</td>\n",
       "      <td>(-74.043, -74.005]</td>\n",
       "    </tr>\n",
       "    <tr>\n",
       "      <th>14</th>\n",
       "      <td>40.715446</td>\n",
       "      <td>-74.001900</td>\n",
       "      <td>(40.703, 40.731]</td>\n",
       "      <td>(-74.005, -73.966]</td>\n",
       "    </tr>\n",
       "    <tr>\n",
       "      <th>18</th>\n",
       "      <td>40.821064</td>\n",
       "      <td>-73.943690</td>\n",
       "      <td>(40.818, 40.847]</td>\n",
       "      <td>(-73.966, -73.928]</td>\n",
       "    </tr>\n",
       "    <tr>\n",
       "      <th>37</th>\n",
       "      <td>40.736378</td>\n",
       "      <td>-73.984940</td>\n",
       "      <td>(40.731, 40.76]</td>\n",
       "      <td>(-74.005, -73.966]</td>\n",
       "    </tr>\n",
       "  </tbody>\n",
       "</table>\n",
       "</div>"
      ],
      "text/plain": [
       "     LATITUDE  LONGITUDE       latti_range         longi_range\n",
       "2   40.826412 -73.940600  (40.818, 40.847]  (-73.966, -73.928]\n",
       "9   40.711746 -74.006996  (40.703, 40.731]  (-74.043, -74.005]\n",
       "14  40.715446 -74.001900  (40.703, 40.731]  (-74.005, -73.966]\n",
       "18  40.821064 -73.943690  (40.818, 40.847]  (-73.966, -73.928]\n",
       "37  40.736378 -73.984940   (40.731, 40.76]  (-74.005, -73.966]"
      ]
     },
     "execution_count": 4,
     "metadata": {},
     "output_type": "execute_result"
    }
   ],
   "source": [
    "nypd['latti_range'] = pd.cut(nypd['LATITUDE'], 10)\n",
    "nypd['longi_range'] = pd.cut(nypd['LONGITUDE'], 10)\n",
    "nypd.head()"
   ]
  },
  {
   "cell_type": "code",
   "execution_count": 5,
   "metadata": {},
   "outputs": [
    {
     "data": {
      "text/plain": [
       "[Interval(40.616, 40.645, closed='right'),\n",
       " Interval(40.645, 40.674, closed='right'),\n",
       " Interval(40.674, 40.703, closed='right'),\n",
       " Interval(40.703, 40.731, closed='right'),\n",
       " Interval(40.731, 40.76, closed='right'),\n",
       " Interval(40.76, 40.789, closed='right'),\n",
       " Interval(40.789, 40.818, closed='right'),\n",
       " Interval(40.818, 40.847, closed='right'),\n",
       " Interval(40.847, 40.876, closed='right'),\n",
       " Interval(40.876, 40.905, closed='right')]"
      ]
     },
     "execution_count": 5,
     "metadata": {},
     "output_type": "execute_result"
    }
   ],
   "source": [
    "a = nypd['latti_range'].unique()\n",
    "sorted(a)"
   ]
  },
  {
   "cell_type": "code",
   "execution_count": 32,
   "metadata": {},
   "outputs": [],
   "source": [
    "# read all intersection coordinates data\n",
    "intersections = pd.read_csv('intersection.csv')"
   ]
  },
  {
   "cell_type": "code",
   "execution_count": null,
   "metadata": {},
   "outputs": [],
   "source": [
    "# Round location data\n",
    "intersections.latitude = round(intersections.latitude,7)\n",
    "intersections.longitude = round(intersections.longitude,7)"
   ]
  },
  {
   "cell_type": "code",
   "execution_count": 33,
   "metadata": {},
   "outputs": [
    {
     "name": "stdout",
     "output_type": "stream",
     "text": [
      "Sum of accidents around all intersections: 159598\n"
     ]
    }
   ],
   "source": [
    "# Testing data:\n",
    "# latitude_low = 0\n",
    "# latitude_high = 80\n",
    "# longitude_low = -80\n",
    "# longitude_high = 0\n",
    "# test_accidents = [(70,-70),(71,-71),(69,-71),(40,-60),(20,-70),(60,-10),(40,-20),(41,-21),(40,-21),(39,-19)]\n",
    "# test_inters = ['70,-70','20,-50','40,-20']\n",
    "\n",
    "## given accident coordinate n, find the bucket it belongs to\n",
    "def find_index(low, high, num_bucket, n):\n",
    "    bucket_size = (high - low) / num_bucket\n",
    "    index = int((n - low) / bucket_size)\n",
    "    return min(index, num_bucket-1)\n",
    "\n",
    "# compute the starting coordinate of the nth bucket\n",
    "def bucket_start(low, high, num_bucket, n):\n",
    "    bucket_size = (high - low) / num_bucket\n",
    "    return low + bucket_size * n\n",
    "\n",
    "# assign all accidents coordinates into total of num_bucket**2 buckets \n",
    "def accidents_in_buckets(num_bucket):\n",
    "    accidents = []\n",
    "    for i in range(num_bucket):\n",
    "        accidents.append([])\n",
    "        for j in range(num_bucket):\n",
    "            accidents[i].append([])\n",
    "\n",
    "    for i in range(len(nypd)):\n",
    "        lat = nypd.iloc[i, 0]\n",
    "        long = nypd.iloc[i, 1]\n",
    "        bucket_idx_x = find_index(latitude_low, latitude_high, num_bucket, lat)\n",
    "        bucket_idx_y = find_index(-longitude_high, -longitude_low, num_bucket, -long)\n",
    "        accidents[bucket_idx_x][bucket_idx_y].append((lat,long))\n",
    "\n",
    "    return accidents\n",
    "\n",
    "# check if the accident is in the picture\n",
    "def accident_in_picture(accident, lat_low, lat_high, long_low, long_high):\n",
    "    return accident[0] >= lat_low and accident[0] <= lat_high and accident[1] >= long_low and accident[1] <= long_high\n",
    "    \n",
    "# find the accident count around each intersection\n",
    "def get_intersection_accident_count(accidents, num_bucket, intersection_cords, picture_len):\n",
    "    \n",
    "    result = {} # (int, int) -> int\n",
    "    total_count = 0\n",
    "    \n",
    "    for i in range(0, len(intersections)):\n",
    "        inter_lat = intersections.iloc[i, 0]\n",
    "        inter_long = intersections.iloc[i, 1]\n",
    "        \n",
    "        # Calculate picture boundary\n",
    "        picture_lat_low = inter_lat - picture_len / 2\n",
    "        picture_lat_high = inter_lat + picture_len / 2\n",
    "        picture_long_low = inter_long - picture_len /2\n",
    "        picture_long_high = inter_long + picture_len /2\n",
    "        \n",
    "        # Calculate relevant bucket\n",
    "        start_bucket_x = find_index(latitude_low, latitude_high, num_bucket, picture_lat_low)\n",
    "        end_bucket_x = find_index(latitude_low, latitude_high, num_bucket, picture_lat_high) + 1\n",
    "        start_bucket_y = find_index(-longitude_high, -longitude_low, num_bucket, -picture_long_high)\n",
    "        end_bucket_y = find_index(-longitude_high, -longitude_low, num_bucket, -picture_long_low) + 1\n",
    "        accident_count = 0\n",
    "        for i in range(start_bucket_x, end_bucket_x):\n",
    "            for j in range(start_bucket_y, end_bucket_y):\n",
    "                relevant_accidents = accidents[i][j]\n",
    "                for accident in relevant_accidents:\n",
    "                    if accident_in_picture(accident, picture_lat_low,\n",
    "                        picture_lat_high, picture_long_low, picture_long_high):\n",
    "                        accident_count += 1\n",
    "        result[(inter_lat, inter_long)] = accident_count\n",
    "        total_count += accident_count\n",
    "    \n",
    "    print(\"Sum of accidents around all intersections: \" + str(total_count))\n",
    "    return result\n",
    "\n",
    "pic_length = 0.0001\n",
    "num_bucket = 50\n",
    "accidents = accidents_in_buckets(num_bucket)    \n",
    "dic = get_intersection_accident_count(accidents, num_bucket, intersections, pic_length)"
   ]
  },
  {
   "cell_type": "code",
   "execution_count": 34,
   "metadata": {},
   "outputs": [],
   "source": [
    "df = pd.DataFrame(list(dic.items()), columns=['location', 'acci_counts'])"
   ]
  },
  {
   "cell_type": "code",
   "execution_count": 35,
   "metadata": {},
   "outputs": [
    {
     "data": {
      "text/html": [
       "<div>\n",
       "<style scoped>\n",
       "    .dataframe tbody tr th:only-of-type {\n",
       "        vertical-align: middle;\n",
       "    }\n",
       "\n",
       "    .dataframe tbody tr th {\n",
       "        vertical-align: top;\n",
       "    }\n",
       "\n",
       "    .dataframe thead th {\n",
       "        text-align: right;\n",
       "    }\n",
       "</style>\n",
       "<table border=\"1\" class=\"dataframe\">\n",
       "  <thead>\n",
       "    <tr style=\"text-align: right;\">\n",
       "      <th></th>\n",
       "      <th>location</th>\n",
       "      <th>acci_counts</th>\n",
       "    </tr>\n",
       "  </thead>\n",
       "  <tbody>\n",
       "    <tr>\n",
       "      <th>0</th>\n",
       "      <td>(40.6909681, -73.9892198)</td>\n",
       "      <td>0</td>\n",
       "    </tr>\n",
       "    <tr>\n",
       "      <th>1</th>\n",
       "      <td>(40.6917872, -73.9890093)</td>\n",
       "      <td>0</td>\n",
       "    </tr>\n",
       "    <tr>\n",
       "      <th>2</th>\n",
       "      <td>(40.8068327, -73.9342151)</td>\n",
       "      <td>0</td>\n",
       "    </tr>\n",
       "    <tr>\n",
       "      <th>3</th>\n",
       "      <td>(40.8061691, -73.9348588)</td>\n",
       "      <td>0</td>\n",
       "    </tr>\n",
       "    <tr>\n",
       "      <th>4</th>\n",
       "      <td>(40.8057523, -73.9347088)</td>\n",
       "      <td>0</td>\n",
       "    </tr>\n",
       "  </tbody>\n",
       "</table>\n",
       "</div>"
      ],
      "text/plain": [
       "                    location  acci_counts\n",
       "0  (40.6909681, -73.9892198)            0\n",
       "1  (40.6917872, -73.9890093)            0\n",
       "2  (40.8068327, -73.9342151)            0\n",
       "3  (40.8061691, -73.9348588)            0\n",
       "4  (40.8057523, -73.9347088)            0"
      ]
     },
     "execution_count": 35,
     "metadata": {},
     "output_type": "execute_result"
    }
   ],
   "source": [
    "df.head()"
   ]
  },
  {
   "cell_type": "code",
   "execution_count": 36,
   "metadata": {},
   "outputs": [],
   "source": [
    "df.to_csv('accidents_count.csv',index=False)"
   ]
  },
  {
   "cell_type": "code",
   "execution_count": null,
   "metadata": {},
   "outputs": [],
   "source": []
  }
 ],
 "metadata": {
  "kernelspec": {
   "display_name": "Python 3",
   "language": "python",
   "name": "python3"
  },
  "language_info": {
   "codemirror_mode": {
    "name": "ipython",
    "version": 3
   },
   "file_extension": ".py",
   "mimetype": "text/x-python",
   "name": "python",
   "nbconvert_exporter": "python",
   "pygments_lexer": "ipython3",
   "version": "3.6.5"
  }
 },
 "nbformat": 4,
 "nbformat_minor": 2
}
