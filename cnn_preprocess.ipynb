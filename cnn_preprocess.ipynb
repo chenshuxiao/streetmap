{
 "cells": [
  {
   "cell_type": "code",
   "execution_count": 6,
   "metadata": {},
   "outputs": [],
   "source": [
    "import numpy as np\n",
    "import pandas as pd\n",
    "import os, random\n",
    "import cv2"
   ]
  },
  {
   "cell_type": "code",
   "execution_count": 7,
   "metadata": {},
   "outputs": [
    {
     "name": "stdout",
     "output_type": "stream",
     "text": [
      "testimage_big.png\n",
      "4.png\n",
      "2.png\n",
      "3.png\n",
      "1.png\n",
      "xxxx.png\n",
      "x.png\n",
      "xxx.png\n",
      "xx.png\n"
     ]
    }
   ],
   "source": [
    "# import maps, note all map images are unique\n",
    "#imgs=[]\n",
    "#filenames=[]\n",
    "coord_img_dict={}\n",
    "for path, dirs, files in os.walk('/Users/xudanluo/Desktop/未命名文件夹/a'):#file path ending with folder\n",
    "    #print('FOLDER',path)\n",
    "    #print(\"\\n\",files[1:-1])\n",
    "    for f in files[1:]:\n",
    "        coord_img_dict[f[:-4]]=cv2.imread(path+\"/\"+f)\n",
    "        #filenames.append(f)\n",
    "        #imgs.append(cv2.imread(path+\"/\"+f))\n",
    "        print(f)\n",
    "        #imgspath.append(path+\"/\"+f)\n",
    "#print(\"samples=\",len(imgs))\n",
    "#imgs[-1].shape\n"
   ]
  },
  {
   "cell_type": "code",
   "execution_count": 8,
   "metadata": {},
   "outputs": [
    {
     "data": {
      "text/html": [
       "<div>\n",
       "<style scoped>\n",
       "    .dataframe tbody tr th:only-of-type {\n",
       "        vertical-align: middle;\n",
       "    }\n",
       "\n",
       "    .dataframe tbody tr th {\n",
       "        vertical-align: top;\n",
       "    }\n",
       "\n",
       "    .dataframe thead th {\n",
       "        text-align: right;\n",
       "    }\n",
       "</style>\n",
       "<table border=\"1\" class=\"dataframe\">\n",
       "  <thead>\n",
       "    <tr style=\"text-align: right;\">\n",
       "      <th></th>\n",
       "      <th>intersection_coordinates</th>\n",
       "      <th>image</th>\n",
       "    </tr>\n",
       "  </thead>\n",
       "  <tbody>\n",
       "    <tr>\n",
       "      <th>0</th>\n",
       "      <td>testimage_big</td>\n",
       "      <td>[[[212, 205, 205], [236, 229, 229], [188, 181,...</td>\n",
       "    </tr>\n",
       "    <tr>\n",
       "      <th>1</th>\n",
       "      <td>4</td>\n",
       "      <td>[[[212, 205, 205], [236, 229, 229], [188, 181,...</td>\n",
       "    </tr>\n",
       "    <tr>\n",
       "      <th>2</th>\n",
       "      <td>2</td>\n",
       "      <td>[[[212, 205, 205], [236, 229, 229], [188, 181,...</td>\n",
       "    </tr>\n",
       "    <tr>\n",
       "      <th>3</th>\n",
       "      <td>3</td>\n",
       "      <td>[[[212, 205, 205], [236, 229, 229], [188, 181,...</td>\n",
       "    </tr>\n",
       "    <tr>\n",
       "      <th>4</th>\n",
       "      <td>1</td>\n",
       "      <td>[[[212, 205, 205], [236, 229, 229], [188, 181,...</td>\n",
       "    </tr>\n",
       "  </tbody>\n",
       "</table>\n",
       "</div>"
      ],
      "text/plain": [
       "  intersection_coordinates                                              image\n",
       "0            testimage_big  [[[212, 205, 205], [236, 229, 229], [188, 181,...\n",
       "1                        4  [[[212, 205, 205], [236, 229, 229], [188, 181,...\n",
       "2                        2  [[[212, 205, 205], [236, 229, 229], [188, 181,...\n",
       "3                        3  [[[212, 205, 205], [236, 229, 229], [188, 181,...\n",
       "4                        1  [[[212, 205, 205], [236, 229, 229], [188, 181,..."
      ]
     },
     "execution_count": 8,
     "metadata": {},
     "output_type": "execute_result"
    }
   ],
   "source": [
    "##convert diction to df called \"maps\"\n",
    "maps=pd.DataFrame(list(coord_img_dict.items()), columns=['intersection_coordinates', 'image'])\n",
    "maps.head()"
   ]
  },
  {
   "cell_type": "code",
   "execution_count": 9,
   "metadata": {},
   "outputs": [
    {
     "name": "stderr",
     "output_type": "stream",
     "text": [
      "/Users/xudanluo/anaconda3/lib/python3.6/site-packages/ipykernel_launcher.py:9: SettingWithCopyWarning: \n",
      "A value is trying to be set on a copy of a slice from a DataFrame.\n",
      "Try using .loc[row_indexer,col_indexer] = value instead\n",
      "\n",
      "See the caveats in the documentation: http://pandas.pydata.org/pandas-docs/stable/indexing.html#indexing-view-versus-copy\n",
      "  if __name__ == '__main__':\n"
     ]
    },
    {
     "data": {
      "text/html": [
       "<div>\n",
       "<style scoped>\n",
       "    .dataframe tbody tr th:only-of-type {\n",
       "        vertical-align: middle;\n",
       "    }\n",
       "\n",
       "    .dataframe tbody tr th {\n",
       "        vertical-align: top;\n",
       "    }\n",
       "\n",
       "    .dataframe thead th {\n",
       "        text-align: right;\n",
       "    }\n",
       "</style>\n",
       "<table border=\"1\" class=\"dataframe\">\n",
       "  <thead>\n",
       "    <tr style=\"text-align: right;\">\n",
       "      <th></th>\n",
       "      <th>intersection_coordinates</th>\n",
       "      <th>accidents</th>\n",
       "      <th>label</th>\n",
       "    </tr>\n",
       "  </thead>\n",
       "  <tbody>\n",
       "    <tr>\n",
       "      <th>9</th>\n",
       "      <td>(40.7215815, -73.9977854)</td>\n",
       "      <td>48.0</td>\n",
       "      <td>high</td>\n",
       "    </tr>\n",
       "    <tr>\n",
       "      <th>11</th>\n",
       "      <td>(40.721450899999994, -73.99739790000001)</td>\n",
       "      <td>172.0</td>\n",
       "      <td>dangerous</td>\n",
       "    </tr>\n",
       "    <tr>\n",
       "      <th>12</th>\n",
       "      <td>(40.7208958, -73.9957503)</td>\n",
       "      <td>98.0</td>\n",
       "      <td>dangerous</td>\n",
       "    </tr>\n",
       "    <tr>\n",
       "      <th>13</th>\n",
       "      <td>(40.7211736, -73.9965747)</td>\n",
       "      <td>88.0</td>\n",
       "      <td>dangerous</td>\n",
       "    </tr>\n",
       "    <tr>\n",
       "      <th>14</th>\n",
       "      <td>(40.7206316, -73.99496629999999)</td>\n",
       "      <td>114.0</td>\n",
       "      <td>dangerous</td>\n",
       "    </tr>\n",
       "  </tbody>\n",
       "</table>\n",
       "</div>"
      ],
      "text/plain": [
       "                    intersection_coordinates  accidents      label\n",
       "9                  (40.7215815, -73.9977854)       48.0       high\n",
       "11  (40.721450899999994, -73.99739790000001)      172.0  dangerous\n",
       "12                 (40.7208958, -73.9957503)       98.0  dangerous\n",
       "13                 (40.7211736, -73.9965747)       88.0  dangerous\n",
       "14          (40.7206316, -73.99496629999999)      114.0  dangerous"
      ]
     },
     "execution_count": 9,
     "metadata": {},
     "output_type": "execute_result"
    }
   ],
   "source": [
    "#inpput counts and select \n",
    "#labels=[0,1,5,3,4,5,2,1,2]\n",
    "data = pd.read_csv(\"/Users/xudanluo/Desktop/jupyter notebook/290/AI FOR GOOD/streetmap-master/accident_counts.csv\")\n",
    "data.head()\n",
    "num_class=5\n",
    "#select some 0 by random\n",
    "zerodata=data[data['accidents']==0].sample(n=round(len(data[data['accidents']>0])/(num_class-1)))\n",
    "otherdata=data[data['accidents']>0]\n",
    "otherdata['label']=pd.qcut((data[data['accidents']>0]['accidents']), (num_class-1), labels=[\"low\", \"medium\",\"high\",\"dangerous\"])\n",
    "zerodata['label']=pd.qcut((data[data['accidents']==0]['accidents']), 1, labels=[\"safe\"])\n",
    "newdata=zerodata.combine_first(otherdata)\n",
    "newdata['label'].value_counts()\n",
    "newdata.head()"
   ]
  },
  {
   "cell_type": "code",
   "execution_count": 11,
   "metadata": {},
   "outputs": [],
   "source": [
    "#merge tables\n",
    "img_coord_pd=maps.merge(newdata,on = 'intersection_coordinates',how = 'inner')\n",
    "img_coord_pd.head()"
   ]
  },
  {
   "cell_type": "code",
   "execution_count": null,
   "metadata": {},
   "outputs": [],
   "source": [
    "#save the data\n",
    "img_coord_pd.to_csv('img_coord_pd.csv', encoding='utf-8', index=False)"
   ]
  }
 ],
 "metadata": {
  "kernelspec": {
   "display_name": "Python 3",
   "language": "python",
   "name": "python3"
  },
  "language_info": {
   "codemirror_mode": {
    "name": "ipython",
    "version": 3
   },
   "file_extension": ".py",
   "mimetype": "text/x-python",
   "name": "python",
   "nbconvert_exporter": "python",
   "pygments_lexer": "ipython3",
   "version": "3.6.5"
  }
 },
 "nbformat": 4,
 "nbformat_minor": 2
}
