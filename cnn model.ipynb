{
 "cells": [
  {
   "cell_type": "code",
   "execution_count": null,
   "metadata": {},
   "outputs": [],
   "source": [
    "import warnings\n",
    "warnings.simplefilter(\"ignore\")\n",
    "from keras import backend as K\n",
    "K.set_image_dim_ordering('tf') # note that we need to have tensorflow dimension ordering still because of the weigths.\n",
    "print('The backend is:',K.backend())\n",
    "import tensorflow as tf\n",
    "print(K.image_dim_ordering()) # should say tf\n",
    "print(tf.__version__) # tested for 1.11.0\n",
    "import cv2\n",
    "import keras\n",
    "print(keras.__version__) # tested for 2.2.4"
   ]
  },
  {
   "cell_type": "code",
   "execution_count": 2,
   "metadata": {},
   "outputs": [],
   "source": [
    "# Import relevant packages\n",
    "from __future__ import absolute_import, division, print_function # make it compatible w Python 2\n",
    "import os\n",
    "import h5py # to handle weights\n",
    "import os, random\n",
    "import numpy as np\n",
    "import pandas as pd\n",
    "\n",
    "import matplotlib.pyplot as plt\n",
    "%matplotlib inline \n",
    "\n",
    "from PIL import Image\n",
    "\n",
    "from keras.models import Sequential\n",
    "from keras.layers import Input, Dropout, Flatten, Convolution2D, MaxPooling2D, Dense, Activation, ZeroPadding2D\n",
    "from keras.optimizers import RMSprop, SGD\n",
    "from keras.callbacks import ModelCheckpoint, Callback, EarlyStopping\n",
    "from keras.utils import np_utils\n",
    "from keras.preprocessing.image import ImageDataGenerator\n",
    "from keras.preprocessing.image import array_to_img, img_to_array, load_img\n",
    "from keras.models import model_from_json\n",
    "from keras.preprocessing import image\n",
    "\n",
    "import sklearn\n",
    "from sklearn.model_selection import train_test_split\n",
    "from sklearn.preprocessing import scale\n",
    "\n",
    "from IPython.display import Image, display\n",
    "\n",
    "# fix random seed for reproducibility\n",
    "np.random.seed(150)"
   ]
  },
  {
   "cell_type": "code",
   "execution_count": 3,
   "metadata": {},
   "outputs": [
    {
     "name": "stdout",
     "output_type": "stream",
     "text": [
      "testimage_big.png\n",
      "4.png\n",
      "2.png\n",
      "3.png\n",
      "1.png\n",
      "xxxx.png\n",
      "x.png\n",
      "xxx.png\n",
      "xx.png\n",
      "samples= 9\n"
     ]
    },
    {
     "data": {
      "text/plain": [
       "(640, 640, 3)"
      ]
     },
     "execution_count": 3,
     "metadata": {},
     "output_type": "execute_result"
    }
   ],
   "source": [
    "# Look at files, note all map images are unique\n",
    "imgs=[]\n",
    "for path, dirs, files in os.walk('/Users/xudanluo/Desktop/未命名文件夹'):\n",
    "    #print('FOLDER',path)\n",
    "    #print(\"\\n\",files[1:-1])\n",
    "    for f in files[1:]:\n",
    "        imgs.append(cv2.imread(path+\"/\"+f))\n",
    "        print(f)\n",
    "        #imgspath.append(path+\"/\"+f)\n",
    "print(\"samples=\",len(imgs))\n",
    "imgs[-1].shape\n"
   ]
  },
  {
   "cell_type": "code",
   "execution_count": 4,
   "metadata": {},
   "outputs": [],
   "source": [
    "labels=[0,1,5,3,4,5,2,1,2]"
   ]
  },
  {
   "cell_type": "code",
   "execution_count": 5,
   "metadata": {},
   "outputs": [
    {
     "name": "stdout",
     "output_type": "stream",
     "text": [
      "[1, 5]\n"
     ]
    }
   ],
   "source": [
    "#split the data\n",
    "def cross_validate(Xs, ys):\n",
    "    X_train, X_test, y_train, y_test = train_test_split(Xs, ys, test_size=0.2, random_state=0)\n",
    "    return X_train, X_test, y_train, y_test\n",
    "\n",
    "X_train, X_test, y_train, y_test = cross_validate(imgs, labels)\n",
    "\n",
    "# confirm we got our data\n",
    "print(y_test[0:10])"
   ]
  },
  {
   "cell_type": "code",
   "execution_count": 6,
   "metadata": {},
   "outputs": [],
   "source": [
    "# normalize inputs from 0-255 and 0.0-1.0\n",
    "X_train = np.array(X_train).astype('float32')\n",
    "X_test = np.array(X_test).astype('float32')\n",
    "X_train = X_train / 255.0\n",
    "X_test = X_test / 255.0\n",
    "\n",
    "# one hot encode outputs\n",
    "y_train = np.array(y_train)\n",
    "y_test = np.array(y_test)\n",
    "y_train = np_utils.to_categorical(y_train)\n",
    "y_test = np_utils.to_categorical(y_test)\n",
    "num_classes = y_test.shape[1]\n",
    "#print(\"Data normalized and hot encoded.\")"
   ]
  },
  {
   "cell_type": "code",
   "execution_count": 7,
   "metadata": {},
   "outputs": [
    {
     "data": {
      "text/plain": [
       "array([[0., 1., 0., 0., 0., 0.],\n",
       "       [0., 0., 0., 0., 1., 0.],\n",
       "       [0., 0., 1., 0., 0., 0.],\n",
       "       [0., 0., 1., 0., 0., 0.],\n",
       "       [0., 0., 0., 1., 0., 0.],\n",
       "       [1., 0., 0., 0., 0., 0.],\n",
       "       [0., 0., 0., 0., 0., 1.]], dtype=float32)"
      ]
     },
     "execution_count": 7,
     "metadata": {},
     "output_type": "execute_result"
    }
   ],
   "source": [
    "y_train"
   ]
  },
  {
   "cell_type": "code",
   "execution_count": null,
   "metadata": {},
   "outputs": [],
   "source": [
    "input_size=(640,640,3)\n",
    "num_classes=6\n",
    "def createCNNModel(num_classes):\n",
    "#    \"\"\" Adapted from: # http://machinelearningmastery.com/object-recognition-convolutional-neural-networks-keras-deep-learning-library/\n",
    "# \"\"\"\n",
    "    # Create the model\n",
    "    model = Sequential()\n",
    "    model.add(Convolution2D(32, 3, 3, input_shape=input_size, border_mode='same', activation='relu'))\n",
    "    model.add(Dropout(0.2))\n",
    "    model.add(Convolution2D(32, 3, 3, activation='relu', border_mode='same'))\n",
    "    model.add(MaxPooling2D(pool_size=(2, 2)))\n",
    "    model.add(Flatten())\n",
    "    model.add(Dense(512, activation='relu'))\n",
    "    model.add(Dropout(0.5))\n",
    "    model.add(Dense(num_classes, activation='softmax'))\n",
    "    # Compile model\n",
    "    epochs = 3  # >>> should be 25+\n",
    "    lrate = 0.01\n",
    "    decay = lrate/epochs\n",
    "    sgd = SGD(lr=lrate, momentum=0.9, decay=decay, nesterov=False)\n",
    "    model.compile(loss='categorical_crossentropy', optimizer=sgd, metrics=['accuracy'])\n",
    "    print(model.summary())\n",
    "    return model, epochs\n",
    "\n",
    "# create our CNN model\n",
    "model, epochs = createCNNModel(num_classes)\n",
    "print(\"CNN Model created.\")\n"
   ]
  },
  {
   "cell_type": "code",
   "execution_count": 9,
   "metadata": {},
   "outputs": [],
   "source": [
    "def run_inference_on_image(image):\n",
    "  \"\"\"Runs inference on an image.\n",
    "  Args:\n",
    "    image: Image file name.\n",
    "  Returns:\n",
    "    Nothing\n",
    "  \"\"\"\n",
    "  if not tf.gfile.Exists(image):\n",
    "    tf.logging.fatal('File does not exist %s', image)\n",
    "  image_data = tf.gfile.FastGFile(image, 'rb').read()\n",
    "\n",
    "  # Creates graph from saved GraphDef.\n",
    "  create_graph()\n",
    "\n",
    "  with tf.Session() as sess:\n",
    "    # Some useful tensors:\n",
    "    # 'softmax:0': A tensor containing the normalized prediction across\n",
    "    #   1000 labels.\n",
    "    # 'pool_3:0': A tensor containing the next-to-last layer containing 2048\n",
    "    #   float description of the image.\n",
    "    # 'DecodeJpeg/contents:0': A tensor containing a string providing JPEG\n",
    "    #   encoding of the image.\n",
    "    # Runs the softmax tensor by feeding the image_data as input to the graph.\n",
    "    softmax_tensor = sess.graph.get_tensor_by_name('softmax:0')\n",
    "    predictions = sess.run(softmax_tensor,\n",
    "                           {'DecodeJpeg/contents:0': image_data})\n",
    "    predictions = np.squeeze(predictions)\n",
    "\n",
    "    # Creates node ID --> English string lookup.\n",
    "    node_lookup = NodeLookup()\n",
    "\n",
    "    top_k = predictions.argsort()[-FLAGS.num_top_predictions:][::-1]\n",
    "    for node_id in top_k:\n",
    "      human_string = node_lookup.id_to_string(node_id)\n",
    "      score = predictions[node_id]\n",
    "      print('%s (score = %.5f)' % (human_string, score))"
   ]
  },
  {
   "cell_type": "code",
   "execution_count": null,
   "metadata": {},
   "outputs": [],
   "source": [
    "input_size=(640,640,3)\n",
    "num_classes=6\n",
    "def createCNNModel(num_classes):\n",
    "#    \"\"\" Adapted from: # http://machinelearningmastery.com/object-recognition-convolutional-neural-networks-keras-deep-learning-library/\n",
    "# \"\"\"\n",
    "    # Create the model\n",
    "    model = Sequential()\n",
    "    model.add(Convolution2D(32, 3, 3, input_shape=input_size, border_mode='same', activation='relu'))\n",
    "    model.add(Dropout(0.2))\n",
    "    model.add(MaxPooling2D(pool_size=(2, 2)))\n",
    "    model.add(Flatten())\n",
    "    model.add(Dense(num_classes, activation='softmax'))\n",
    "\n",
    "    # Compile model\n",
    "    epochs = 3  # >>> should be 25+\n",
    "    lrate = 0.01\n",
    "    decay = lrate/epochs\n",
    "    sgd = SGD(lr=lrate, momentum=0.9, decay=decay, nesterov=False)\n",
    "    model.compile(loss='categorical_crossentropy', optimizer=sgd, metrics=['accuracy'])\n",
    "    print(model.summary())\n",
    "    return model, epochs\n",
    "\n",
    "# create our CNN model\n",
    "model, epochs = createCNNModel(num_classes)\n",
    "print(\"CNN Model created.\")\n"
   ]
  },
  {
   "cell_type": "code",
   "execution_count": 11,
   "metadata": {},
   "outputs": [
    {
     "ename": "TypeError",
     "evalue": "Expected binary or unicode string, got [array([[[212, 205, 205],\n        [236, 229, 229],\n        [188, 181, 181],\n        ...,\n        [ 92,  84,  88],\n        [ 97,  89,  90],\n        [131, 124, 131]],\n\n       [[236, 229, 229],\n        [243, 235, 235],\n        [183, 171, 171],\n        ...,\n        [ 92,  84,  88],\n        [ 99,  92,  96],\n        [100, 107, 107]],\n\n       [[223, 215, 215],\n        [223, 215, 215],\n        [212, 205, 205],\n        ...,\n        [ 81,  82,  82],\n        [ 97,  89,  90],\n        [108, 116, 116]],\n\n       ...,\n\n       [[212, 205, 205],\n        [214, 213, 213],\n        [227, 227, 227],\n        ...,\n        [ 19,  18,  17],\n        [ 10,   7,   7],\n        [ 10,   7,   7]],\n\n       [[214, 213, 213],\n        [203, 203, 203],\n        [227, 221, 221],\n        ...,\n        [ 12,  12,  11],\n        [ 12,  12,  11],\n        [ 12,  12,  11]],\n\n       [[203, 203, 203],\n        [227, 221, 221],\n        [227, 221, 221],\n        ...,\n        [ 10,   7,   7],\n        [ 12,  12,  11],\n        [ 19,  18,  17]]], dtype=uint8), array([[[212, 205, 205],\n        [236, 229, 229],\n        [188, 181, 181],\n        ...,\n        [ 92,  84,  88],\n        [ 97,  89,  90],\n        [131, 124, 131]],\n\n       [[236, 229, 229],\n        [243, 235, 235],\n        [183, 171, 171],\n        ...,\n        [ 92,  84,  88],\n        [ 99,  92,  96],\n        [100, 107, 107]],\n\n       [[223, 215, 215],\n        [223, 215, 215],\n        [212, 205, 205],\n        ...,\n        [ 81,  82,  82],\n        [ 97,  89,  90],\n        [108, 116, 116]],\n\n       ...,\n\n       [[212, 205, 205],\n        [214, 213, 213],\n        [227, 227, 227],\n        ...,\n        [ 19,  18,  17],\n        [ 10,   7,   7],\n        [ 10,   7,   7]],\n\n       [[214, 213, 213],\n        [203, 203, 203],\n        [227, 221, 221],\n        ...,\n        [ 12,  12,  11],\n        [ 12,  12,  11],\n        [ 12,  12,  11]],\n\n       [[203, 203, 203],\n        [227, 221, 221],\n        [227, 221, 221],\n        ...,\n        [ 10,   7,   7],\n        [ 12,  12,  11],\n        [ 19,  18,  17]]], dtype=uint8), array([[[212, 205, 205],\n        [236, 229, 229],\n        [188, 181, 181],\n        ...,\n        [ 92,  84,  88],\n        [ 97,  89,  90],\n        [131, 124, 131]],\n\n       [[236, 229, 229],\n        [243, 235, 235],\n        [183, 171, 171],\n        ...,\n        [ 92,  84,  88],\n        [ 99,  92,  96],\n        [100, 107, 107]],\n\n       [[223, 215, 215],\n        [223, 215, 215],\n        [212, 205, 205],\n        ...,\n        [ 81,  82,  82],\n        [ 97,  89,  90],\n        [108, 116, 116]],\n\n       ...,\n\n       [[212, 205, 205],\n        [214, 213, 213],\n        [227, 227, 227],\n        ...,\n        [ 19,  18,  17],\n        [ 10,   7,   7],\n        [ 10,   7,   7]],\n\n       [[214, 213, 213],\n        [203, 203, 203],\n        [227, 221, 221],\n        ...,\n        [ 12,  12,  11],\n        [ 12,  12,  11],\n        [ 12,  12,  11]],\n\n       [[203, 203, 203],\n        [227, 221, 221],\n        [227, 221, 221],\n        ...,\n        [ 10,   7,   7],\n        [ 12,  12,  11],\n        [ 19,  18,  17]]], dtype=uint8), array([[[212, 205, 205],\n        [236, 229, 229],\n        [188, 181, 181],\n        ...,\n        [ 92,  84,  88],\n        [ 97,  89,  90],\n        [131, 124, 131]],\n\n       [[236, 229, 229],\n        [243, 235, 235],\n        [183, 171, 171],\n        ...,\n        [ 92,  84,  88],\n        [ 99,  92,  96],\n        [100, 107, 107]],\n\n       [[223, 215, 215],\n        [223, 215, 215],\n        [212, 205, 205],\n        ...,\n        [ 81,  82,  82],\n        [ 97,  89,  90],\n        [108, 116, 116]],\n\n       ...,\n\n       [[212, 205, 205],\n        [214, 213, 213],\n        [227, 227, 227],\n        ...,\n        [ 19,  18,  17],\n        [ 10,   7,   7],\n        [ 10,   7,   7]],\n\n       [[214, 213, 213],\n        [203, 203, 203],\n        [227, 221, 221],\n        ...,\n        [ 12,  12,  11],\n        [ 12,  12,  11],\n        [ 12,  12,  11]],\n\n       [[203, 203, 203],\n        [227, 221, 221],\n        [227, 221, 221],\n        ...,\n        [ 10,   7,   7],\n        [ 12,  12,  11],\n        [ 19,  18,  17]]], dtype=uint8), array([[[212, 205, 205],\n        [236, 229, 229],\n        [188, 181, 181],\n        ...,\n        [ 92,  84,  88],\n        [ 97,  89,  90],\n        [131, 124, 131]],\n\n       [[236, 229, 229],\n        [243, 235, 235],\n        [183, 171, 171],\n        ...,\n        [ 92,  84,  88],\n        [ 99,  92,  96],\n        [100, 107, 107]],\n\n       [[223, 215, 215],\n        [223, 215, 215],\n        [212, 205, 205],\n        ...,\n        [ 81,  82,  82],\n        [ 97,  89,  90],\n        [108, 116, 116]],\n\n       ...,\n\n       [[212, 205, 205],\n        [214, 213, 213],\n        [227, 227, 227],\n        ...,\n        [ 19,  18,  17],\n        [ 10,   7,   7],\n        [ 10,   7,   7]],\n\n       [[214, 213, 213],\n        [203, 203, 203],\n        [227, 221, 221],\n        ...,\n        [ 12,  12,  11],\n        [ 12,  12,  11],\n        [ 12,  12,  11]],\n\n       [[203, 203, 203],\n        [227, 221, 221],\n        [227, 221, 221],\n        ...,\n        [ 10,   7,   7],\n        [ 12,  12,  11],\n        [ 19,  18,  17]]], dtype=uint8), array([[[212, 205, 205],\n        [236, 229, 229],\n        [188, 181, 181],\n        ...,\n        [ 92,  84,  88],\n        [ 97,  89,  90],\n        [131, 124, 131]],\n\n       [[236, 229, 229],\n        [243, 235, 235],\n        [183, 171, 171],\n        ...,\n        [ 92,  84,  88],\n        [ 99,  92,  96],\n        [100, 107, 107]],\n\n       [[223, 215, 215],\n        [223, 215, 215],\n        [212, 205, 205],\n        ...,\n        [ 81,  82,  82],\n        [ 97,  89,  90],\n        [108, 116, 116]],\n\n       ...,\n\n       [[212, 205, 205],\n        [214, 213, 213],\n        [227, 227, 227],\n        ...,\n        [ 19,  18,  17],\n        [ 10,   7,   7],\n        [ 10,   7,   7]],\n\n       [[214, 213, 213],\n        [203, 203, 203],\n        [227, 221, 221],\n        ...,\n        [ 12,  12,  11],\n        [ 12,  12,  11],\n        [ 12,  12,  11]],\n\n       [[203, 203, 203],\n        [227, 221, 221],\n        [227, 221, 221],\n        ...,\n        [ 10,   7,   7],\n        [ 12,  12,  11],\n        [ 19,  18,  17]]], dtype=uint8), array([[[212, 205, 205],\n        [236, 229, 229],\n        [188, 181, 181],\n        ...,\n        [ 92,  84,  88],\n        [ 97,  89,  90],\n        [131, 124, 131]],\n\n       [[236, 229, 229],\n        [243, 235, 235],\n        [183, 171, 171],\n        ...,\n        [ 92,  84,  88],\n        [ 99,  92,  96],\n        [100, 107, 107]],\n\n       [[223, 215, 215],\n        [223, 215, 215],\n        [212, 205, 205],\n        ...,\n        [ 81,  82,  82],\n        [ 97,  89,  90],\n        [108, 116, 116]],\n\n       ...,\n\n       [[212, 205, 205],\n        [214, 213, 213],\n        [227, 227, 227],\n        ...,\n        [ 19,  18,  17],\n        [ 10,   7,   7],\n        [ 10,   7,   7]],\n\n       [[214, 213, 213],\n        [203, 203, 203],\n        [227, 221, 221],\n        ...,\n        [ 12,  12,  11],\n        [ 12,  12,  11],\n        [ 12,  12,  11]],\n\n       [[203, 203, 203],\n        [227, 221, 221],\n        [227, 221, 221],\n        ...,\n        [ 10,   7,   7],\n        [ 12,  12,  11],\n        [ 19,  18,  17]]], dtype=uint8), array([[[212, 205, 205],\n        [236, 229, 229],\n        [188, 181, 181],\n        ...,\n        [ 92,  84,  88],\n        [ 97,  89,  90],\n        [131, 124, 131]],\n\n       [[236, 229, 229],\n        [243, 235, 235],\n        [183, 171, 171],\n        ...,\n        [ 92,  84,  88],\n        [ 99,  92,  96],\n        [100, 107, 107]],\n\n       [[223, 215, 215],\n        [223, 215, 215],\n        [212, 205, 205],\n        ...,\n        [ 81,  82,  82],\n        [ 97,  89,  90],\n        [108, 116, 116]],\n\n       ...,\n\n       [[212, 205, 205],\n        [214, 213, 213],\n        [227, 227, 227],\n        ...,\n        [ 19,  18,  17],\n        [ 10,   7,   7],\n        [ 10,   7,   7]],\n\n       [[214, 213, 213],\n        [203, 203, 203],\n        [227, 221, 221],\n        ...,\n        [ 12,  12,  11],\n        [ 12,  12,  11],\n        [ 12,  12,  11]],\n\n       [[203, 203, 203],\n        [227, 221, 221],\n        [227, 221, 221],\n        ...,\n        [ 10,   7,   7],\n        [ 12,  12,  11],\n        [ 19,  18,  17]]], dtype=uint8), array([[[212, 205, 205],\n        [236, 229, 229],\n        [188, 181, 181],\n        ...,\n        [ 92,  84,  88],\n        [ 97,  89,  90],\n        [131, 124, 131]],\n\n       [[236, 229, 229],\n        [243, 235, 235],\n        [183, 171, 171],\n        ...,\n        [ 92,  84,  88],\n        [ 99,  92,  96],\n        [100, 107, 107]],\n\n       [[223, 215, 215],\n        [223, 215, 215],\n        [212, 205, 205],\n        ...,\n        [ 81,  82,  82],\n        [ 97,  89,  90],\n        [108, 116, 116]],\n\n       ...,\n\n       [[212, 205, 205],\n        [214, 213, 213],\n        [227, 227, 227],\n        ...,\n        [ 19,  18,  17],\n        [ 10,   7,   7],\n        [ 10,   7,   7]],\n\n       [[214, 213, 213],\n        [203, 203, 203],\n        [227, 221, 221],\n        ...,\n        [ 12,  12,  11],\n        [ 12,  12,  11],\n        [ 12,  12,  11]],\n\n       [[203, 203, 203],\n        [227, 221, 221],\n        [227, 221, 221],\n        ...,\n        [ 10,   7,   7],\n        [ 12,  12,  11],\n        [ 19,  18,  17]]], dtype=uint8)]",
     "output_type": "error",
     "traceback": [
      "\u001b[0;31m---------------------------------------------------------------------------\u001b[0m",
      "\u001b[0;31mTypeError\u001b[0m                                 Traceback (most recent call last)",
      "\u001b[0;32m<ipython-input-11-3e29c98ad355>\u001b[0m in \u001b[0;36m<module>\u001b[0;34m()\u001b[0m\n\u001b[1;32m      1\u001b[0m \u001b[0mX_train\u001b[0m\u001b[0;34m.\u001b[0m\u001b[0mshape\u001b[0m\u001b[0;34m\u001b[0m\u001b[0m\n\u001b[1;32m      2\u001b[0m \u001b[0my_train\u001b[0m\u001b[0;34m.\u001b[0m\u001b[0mshape\u001b[0m\u001b[0;34m\u001b[0m\u001b[0m\n\u001b[0;32m----> 3\u001b[0;31m \u001b[0mrun_inference_on_image\u001b[0m\u001b[0;34m(\u001b[0m\u001b[0mimgs\u001b[0m\u001b[0;34m)\u001b[0m\u001b[0;34m\u001b[0m\u001b[0m\n\u001b[0m",
      "\u001b[0;32m<ipython-input-9-ecf444580af1>\u001b[0m in \u001b[0;36mrun_inference_on_image\u001b[0;34m(image)\u001b[0m\n\u001b[1;32m      6\u001b[0m     \u001b[0mNothing\u001b[0m\u001b[0;34m\u001b[0m\u001b[0m\n\u001b[1;32m      7\u001b[0m   \"\"\"\n\u001b[0;32m----> 8\u001b[0;31m   \u001b[0;32mif\u001b[0m \u001b[0;32mnot\u001b[0m \u001b[0mtf\u001b[0m\u001b[0;34m.\u001b[0m\u001b[0mgfile\u001b[0m\u001b[0;34m.\u001b[0m\u001b[0mExists\u001b[0m\u001b[0;34m(\u001b[0m\u001b[0mimage\u001b[0m\u001b[0;34m)\u001b[0m\u001b[0;34m:\u001b[0m\u001b[0;34m\u001b[0m\u001b[0m\n\u001b[0m\u001b[1;32m      9\u001b[0m     \u001b[0mtf\u001b[0m\u001b[0;34m.\u001b[0m\u001b[0mlogging\u001b[0m\u001b[0;34m.\u001b[0m\u001b[0mfatal\u001b[0m\u001b[0;34m(\u001b[0m\u001b[0;34m'File does not exist %s'\u001b[0m\u001b[0;34m,\u001b[0m \u001b[0mimage\u001b[0m\u001b[0;34m)\u001b[0m\u001b[0;34m\u001b[0m\u001b[0m\n\u001b[1;32m     10\u001b[0m   \u001b[0mimage_data\u001b[0m \u001b[0;34m=\u001b[0m \u001b[0mtf\u001b[0m\u001b[0;34m.\u001b[0m\u001b[0mgfile\u001b[0m\u001b[0;34m.\u001b[0m\u001b[0mFastGFile\u001b[0m\u001b[0;34m(\u001b[0m\u001b[0mimage\u001b[0m\u001b[0;34m,\u001b[0m \u001b[0;34m'rb'\u001b[0m\u001b[0;34m)\u001b[0m\u001b[0;34m.\u001b[0m\u001b[0mread\u001b[0m\u001b[0;34m(\u001b[0m\u001b[0;34m)\u001b[0m\u001b[0;34m\u001b[0m\u001b[0m\n",
      "\u001b[0;32m~/anaconda3/lib/python3.6/site-packages/tensorflow/python/lib/io/file_io.py\u001b[0m in \u001b[0;36mfile_exists\u001b[0;34m(filename)\u001b[0m\n\u001b[1;32m    258\u001b[0m   \u001b[0;32mtry\u001b[0m\u001b[0;34m:\u001b[0m\u001b[0;34m\u001b[0m\u001b[0m\n\u001b[1;32m    259\u001b[0m     \u001b[0;32mwith\u001b[0m \u001b[0merrors\u001b[0m\u001b[0;34m.\u001b[0m\u001b[0mraise_exception_on_not_ok_status\u001b[0m\u001b[0;34m(\u001b[0m\u001b[0;34m)\u001b[0m \u001b[0;32mas\u001b[0m \u001b[0mstatus\u001b[0m\u001b[0;34m:\u001b[0m\u001b[0;34m\u001b[0m\u001b[0m\n\u001b[0;32m--> 260\u001b[0;31m       \u001b[0mpywrap_tensorflow\u001b[0m\u001b[0;34m.\u001b[0m\u001b[0mFileExists\u001b[0m\u001b[0;34m(\u001b[0m\u001b[0mcompat\u001b[0m\u001b[0;34m.\u001b[0m\u001b[0mas_bytes\u001b[0m\u001b[0;34m(\u001b[0m\u001b[0mfilename\u001b[0m\u001b[0;34m)\u001b[0m\u001b[0;34m,\u001b[0m \u001b[0mstatus\u001b[0m\u001b[0;34m)\u001b[0m\u001b[0;34m\u001b[0m\u001b[0m\n\u001b[0m\u001b[1;32m    261\u001b[0m   \u001b[0;32mexcept\u001b[0m \u001b[0merrors\u001b[0m\u001b[0;34m.\u001b[0m\u001b[0mNotFoundError\u001b[0m\u001b[0;34m:\u001b[0m\u001b[0;34m\u001b[0m\u001b[0m\n\u001b[1;32m    262\u001b[0m     \u001b[0;32mreturn\u001b[0m \u001b[0;32mFalse\u001b[0m\u001b[0;34m\u001b[0m\u001b[0m\n",
      "\u001b[0;32m~/anaconda3/lib/python3.6/site-packages/tensorflow/python/util/compat.py\u001b[0m in \u001b[0;36mas_bytes\u001b[0;34m(bytes_or_text, encoding)\u001b[0m\n\u001b[1;32m     59\u001b[0m   \u001b[0;32melse\u001b[0m\u001b[0;34m:\u001b[0m\u001b[0;34m\u001b[0m\u001b[0m\n\u001b[1;32m     60\u001b[0m     raise TypeError('Expected binary or unicode string, got %r' %\n\u001b[0;32m---> 61\u001b[0;31m                     (bytes_or_text,))\n\u001b[0m\u001b[1;32m     62\u001b[0m \u001b[0;34m\u001b[0m\u001b[0m\n\u001b[1;32m     63\u001b[0m \u001b[0;34m\u001b[0m\u001b[0m\n",
      "\u001b[0;31mTypeError\u001b[0m: Expected binary or unicode string, got [array([[[212, 205, 205],\n        [236, 229, 229],\n        [188, 181, 181],\n        ...,\n        [ 92,  84,  88],\n        [ 97,  89,  90],\n        [131, 124, 131]],\n\n       [[236, 229, 229],\n        [243, 235, 235],\n        [183, 171, 171],\n        ...,\n        [ 92,  84,  88],\n        [ 99,  92,  96],\n        [100, 107, 107]],\n\n       [[223, 215, 215],\n        [223, 215, 215],\n        [212, 205, 205],\n        ...,\n        [ 81,  82,  82],\n        [ 97,  89,  90],\n        [108, 116, 116]],\n\n       ...,\n\n       [[212, 205, 205],\n        [214, 213, 213],\n        [227, 227, 227],\n        ...,\n        [ 19,  18,  17],\n        [ 10,   7,   7],\n        [ 10,   7,   7]],\n\n       [[214, 213, 213],\n        [203, 203, 203],\n        [227, 221, 221],\n        ...,\n        [ 12,  12,  11],\n        [ 12,  12,  11],\n        [ 12,  12,  11]],\n\n       [[203, 203, 203],\n        [227, 221, 221],\n        [227, 221, 221],\n        ...,\n        [ 10,   7,   7],\n        [ 12,  12,  11],\n        [ 19,  18,  17]]], dtype=uint8), array([[[212, 205, 205],\n        [236, 229, 229],\n        [188, 181, 181],\n        ...,\n        [ 92,  84,  88],\n        [ 97,  89,  90],\n        [131, 124, 131]],\n\n       [[236, 229, 229],\n        [243, 235, 235],\n        [183, 171, 171],\n        ...,\n        [ 92,  84,  88],\n        [ 99,  92,  96],\n        [100, 107, 107]],\n\n       [[223, 215, 215],\n        [223, 215, 215],\n        [212, 205, 205],\n        ...,\n        [ 81,  82,  82],\n        [ 97,  89,  90],\n        [108, 116, 116]],\n\n       ...,\n\n       [[212, 205, 205],\n        [214, 213, 213],\n        [227, 227, 227],\n        ...,\n        [ 19,  18,  17],\n        [ 10,   7,   7],\n        [ 10,   7,   7]],\n\n       [[214, 213, 213],\n        [203, 203, 203],\n        [227, 221, 221],\n        ...,\n        [ 12,  12,  11],\n        [ 12,  12,  11],\n        [ 12,  12,  11]],\n\n       [[203, 203, 203],\n        [227, 221, 221],\n        [227, 221, 221],\n        ...,\n        [ 10,   7,   7],\n        [ 12,  12,  11],\n        [ 19,  18,  17]]], dtype=uint8), array([[[212, 205, 205],\n        [236, 229, 229],\n        [188, 181, 181],\n        ...,\n        [ 92,  84,  88],\n        [ 97,  89,  90],\n        [131, 124, 131]],\n\n       [[236, 229, 229],\n        [243, 235, 235],\n        [183, 171, 171],\n        ...,\n        [ 92,  84,  88],\n        [ 99,  92,  96],\n        [100, 107, 107]],\n\n       [[223, 215, 215],\n        [223, 215, 215],\n        [212, 205, 205],\n        ...,\n        [ 81,  82,  82],\n        [ 97,  89,  90],\n        [108, 116, 116]],\n\n       ...,\n\n       [[212, 205, 205],\n        [214, 213, 213],\n        [227, 227, 227],\n        ...,\n        [ 19,  18,  17],\n        [ 10,   7,   7],\n        [ 10,   7,   7]],\n\n       [[214, 213, 213],\n        [203, 203, 203],\n        [227, 221, 221],\n        ...,\n        [ 12,  12,  11],\n        [ 12,  12,  11],\n        [ 12,  12,  11]],\n\n       [[203, 203, 203],\n        [227, 221, 221],\n        [227, 221, 221],\n        ...,\n        [ 10,   7,   7],\n        [ 12,  12,  11],\n        [ 19,  18,  17]]], dtype=uint8), array([[[212, 205, 205],\n        [236, 229, 229],\n        [188, 181, 181],\n        ...,\n        [ 92,  84,  88],\n        [ 97,  89,  90],\n        [131, 124, 131]],\n\n       [[236, 229, 229],\n        [243, 235, 235],\n        [183, 171, 171],\n        ...,\n        [ 92,  84,  88],\n        [ 99,  92,  96],\n        [100, 107, 107]],\n\n       [[223, 215, 215],\n        [223, 215, 215],\n        [212, 205, 205],\n        ...,\n        [ 81,  82,  82],\n        [ 97,  89,  90],\n        [108, 116, 116]],\n\n       ...,\n\n       [[212, 205, 205],\n        [214, 213, 213],\n        [227, 227, 227],\n        ...,\n        [ 19,  18,  17],\n        [ 10,   7,   7],\n        [ 10,   7,   7]],\n\n       [[214, 213, 213],\n        [203, 203, 203],\n        [227, 221, 221],\n        ...,\n        [ 12,  12,  11],\n        [ 12,  12,  11],\n        [ 12,  12,  11]],\n\n       [[203, 203, 203],\n        [227, 221, 221],\n        [227, 221, 221],\n        ...,\n        [ 10,   7,   7],\n        [ 12,  12,  11],\n        [ 19,  18,  17]]], dtype=uint8), array([[[212, 205, 205],\n        [236, 229, 229],\n        [188, 181, 181],\n        ...,\n        [ 92,  84,  88],\n        [ 97,  89,  90],\n        [131, 124, 131]],\n\n       [[236, 229, 229],\n        [243, 235, 235],\n        [183, 171, 171],\n        ...,\n        [ 92,  84,  88],\n        [ 99,  92,  96],\n        [100, 107, 107]],\n\n       [[223, 215, 215],\n        [223, 215, 215],\n        [212, 205, 205],\n        ...,\n        [ 81,  82,  82],\n        [ 97,  89,  90],\n        [108, 116, 116]],\n\n       ...,\n\n       [[212, 205, 205],\n        [214, 213, 213],\n        [227, 227, 227],\n        ...,\n        [ 19,  18,  17],\n        [ 10,   7,   7],\n        [ 10,   7,   7]],\n\n       [[214, 213, 213],\n        [203, 203, 203],\n        [227, 221, 221],\n        ...,\n        [ 12,  12,  11],\n        [ 12,  12,  11],\n        [ 12,  12,  11]],\n\n       [[203, 203, 203],\n        [227, 221, 221],\n        [227, 221, 221],\n        ...,\n        [ 10,   7,   7],\n        [ 12,  12,  11],\n        [ 19,  18,  17]]], dtype=uint8), array([[[212, 205, 205],\n        [236, 229, 229],\n        [188, 181, 181],\n        ...,\n        [ 92,  84,  88],\n        [ 97,  89,  90],\n        [131, 124, 131]],\n\n       [[236, 229, 229],\n        [243, 235, 235],\n        [183, 171, 171],\n        ...,\n        [ 92,  84,  88],\n        [ 99,  92,  96],\n        [100, 107, 107]],\n\n       [[223, 215, 215],\n        [223, 215, 215],\n        [212, 205, 205],\n        ...,\n        [ 81,  82,  82],\n        [ 97,  89,  90],\n        [108, 116, 116]],\n\n       ...,\n\n       [[212, 205, 205],\n        [214, 213, 213],\n        [227, 227, 227],\n        ...,\n        [ 19,  18,  17],\n        [ 10,   7,   7],\n        [ 10,   7,   7]],\n\n       [[214, 213, 213],\n        [203, 203, 203],\n        [227, 221, 221],\n        ...,\n        [ 12,  12,  11],\n        [ 12,  12,  11],\n        [ 12,  12,  11]],\n\n       [[203, 203, 203],\n        [227, 221, 221],\n        [227, 221, 221],\n        ...,\n        [ 10,   7,   7],\n        [ 12,  12,  11],\n        [ 19,  18,  17]]], dtype=uint8), array([[[212, 205, 205],\n        [236, 229, 229],\n        [188, 181, 181],\n        ...,\n        [ 92,  84,  88],\n        [ 97,  89,  90],\n        [131, 124, 131]],\n\n       [[236, 229, 229],\n        [243, 235, 235],\n        [183, 171, 171],\n        ...,\n        [ 92,  84,  88],\n        [ 99,  92,  96],\n        [100, 107, 107]],\n\n       [[223, 215, 215],\n        [223, 215, 215],\n        [212, 205, 205],\n        ...,\n        [ 81,  82,  82],\n        [ 97,  89,  90],\n        [108, 116, 116]],\n\n       ...,\n\n       [[212, 205, 205],\n        [214, 213, 213],\n        [227, 227, 227],\n        ...,\n        [ 19,  18,  17],\n        [ 10,   7,   7],\n        [ 10,   7,   7]],\n\n       [[214, 213, 213],\n        [203, 203, 203],\n        [227, 221, 221],\n        ...,\n        [ 12,  12,  11],\n        [ 12,  12,  11],\n        [ 12,  12,  11]],\n\n       [[203, 203, 203],\n        [227, 221, 221],\n        [227, 221, 221],\n        ...,\n        [ 10,   7,   7],\n        [ 12,  12,  11],\n        [ 19,  18,  17]]], dtype=uint8), array([[[212, 205, 205],\n        [236, 229, 229],\n        [188, 181, 181],\n        ...,\n        [ 92,  84,  88],\n        [ 97,  89,  90],\n        [131, 124, 131]],\n\n       [[236, 229, 229],\n        [243, 235, 235],\n        [183, 171, 171],\n        ...,\n        [ 92,  84,  88],\n        [ 99,  92,  96],\n        [100, 107, 107]],\n\n       [[223, 215, 215],\n        [223, 215, 215],\n        [212, 205, 205],\n        ...,\n        [ 81,  82,  82],\n        [ 97,  89,  90],\n        [108, 116, 116]],\n\n       ...,\n\n       [[212, 205, 205],\n        [214, 213, 213],\n        [227, 227, 227],\n        ...,\n        [ 19,  18,  17],\n        [ 10,   7,   7],\n        [ 10,   7,   7]],\n\n       [[214, 213, 213],\n        [203, 203, 203],\n        [227, 221, 221],\n        ...,\n        [ 12,  12,  11],\n        [ 12,  12,  11],\n        [ 12,  12,  11]],\n\n       [[203, 203, 203],\n        [227, 221, 221],\n        [227, 221, 221],\n        ...,\n        [ 10,   7,   7],\n        [ 12,  12,  11],\n        [ 19,  18,  17]]], dtype=uint8), array([[[212, 205, 205],\n        [236, 229, 229],\n        [188, 181, 181],\n        ...,\n        [ 92,  84,  88],\n        [ 97,  89,  90],\n        [131, 124, 131]],\n\n       [[236, 229, 229],\n        [243, 235, 235],\n        [183, 171, 171],\n        ...,\n        [ 92,  84,  88],\n        [ 99,  92,  96],\n        [100, 107, 107]],\n\n       [[223, 215, 215],\n        [223, 215, 215],\n        [212, 205, 205],\n        ...,\n        [ 81,  82,  82],\n        [ 97,  89,  90],\n        [108, 116, 116]],\n\n       ...,\n\n       [[212, 205, 205],\n        [214, 213, 213],\n        [227, 227, 227],\n        ...,\n        [ 19,  18,  17],\n        [ 10,   7,   7],\n        [ 10,   7,   7]],\n\n       [[214, 213, 213],\n        [203, 203, 203],\n        [227, 221, 221],\n        ...,\n        [ 12,  12,  11],\n        [ 12,  12,  11],\n        [ 12,  12,  11]],\n\n       [[203, 203, 203],\n        [227, 221, 221],\n        [227, 221, 221],\n        ...,\n        [ 10,   7,   7],\n        [ 12,  12,  11],\n        [ 19,  18,  17]]], dtype=uint8)]"
     ]
    }
   ],
   "source": [
    "X_train.shape\n",
    "y_train.shape\n",
    "run_inference_on_image(imgs)"
   ]
  },
  {
   "cell_type": "code",
   "execution_count": null,
   "metadata": {},
   "outputs": [],
   "source": [
    "batch_size=60\n",
    "seed = 7\n",
    "np.random.seed(seed)\n",
    "model.fit(X_train, y_train, batch_size = batch_size, nb_epoch = epochs)\n",
    "#model.fit(X_train, y_train, validation_data=(X_test, y_test), nb_epoch=epochs, batch_size=60)\n",
    "# Final evaluation of the model\n",
    "scores = model.evaluate(X_test, y_test, verbose=0)\n",
    "print(\"Accuracy: %.2f%%\" % (scores[1]*100))\n",
    "\n",
    "print(\"done\")"
   ]
  },
  {
   "cell_type": "code",
   "execution_count": null,
   "metadata": {},
   "outputs": [],
   "source": []
  }
 ],
 "metadata": {
  "kernelspec": {
   "display_name": "Python 3",
   "language": "python",
   "name": "python3"
  },
  "language_info": {
   "codemirror_mode": {
    "name": "ipython",
    "version": 3
   },
   "file_extension": ".py",
   "mimetype": "text/x-python",
   "name": "python",
   "nbconvert_exporter": "python",
   "pygments_lexer": "ipython3",
   "version": "3.6.5"
  }
 },
 "nbformat": 4,
 "nbformat_minor": 2
}
